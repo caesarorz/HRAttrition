{
 "cells": [
  {
   "cell_type": "markdown",
   "metadata": {},
   "source": [
    "# Project HR\n",
    "\n",
    "Predict attrition of your valuable employees\n",
    "\n",
    "[IBM HR Analytics Employee Attrition & Performance](https://www.kaggle.com/pavansubhasht/ibm-hr-analytics-attrition-dataset)"
   ]
  },
  {
   "cell_type": "code",
   "execution_count": 444,
   "metadata": {},
   "outputs": [],
   "source": [
    "import pandas as pd\n",
    "import numpy as np\n",
    "import matplotlib.pyplot as plt\n",
    "%matplotlib inline"
   ]
  },
  {
   "cell_type": "code",
   "execution_count": 445,
   "metadata": {},
   "outputs": [
    {
     "data": {
      "text/html": [
       "<div>\n",
       "<style scoped>\n",
       "    .dataframe tbody tr th:only-of-type {\n",
       "        vertical-align: middle;\n",
       "    }\n",
       "\n",
       "    .dataframe tbody tr th {\n",
       "        vertical-align: top;\n",
       "    }\n",
       "\n",
       "    .dataframe thead th {\n",
       "        text-align: right;\n",
       "    }\n",
       "</style>\n",
       "<table border=\"1\" class=\"dataframe\">\n",
       "  <thead>\n",
       "    <tr style=\"text-align: right;\">\n",
       "      <th></th>\n",
       "      <th>Age</th>\n",
       "      <th>Attrition</th>\n",
       "      <th>BusinessTravel</th>\n",
       "      <th>DailyRate</th>\n",
       "      <th>Department</th>\n",
       "      <th>DistanceFromHome</th>\n",
       "      <th>Education</th>\n",
       "      <th>EducationField</th>\n",
       "      <th>EmployeeCount</th>\n",
       "      <th>EmployeeNumber</th>\n",
       "      <th>...</th>\n",
       "      <th>RelationshipSatisfaction</th>\n",
       "      <th>StandardHours</th>\n",
       "      <th>StockOptionLevel</th>\n",
       "      <th>TotalWorkingYears</th>\n",
       "      <th>TrainingTimesLastYear</th>\n",
       "      <th>WorkLifeBalance</th>\n",
       "      <th>YearsAtCompany</th>\n",
       "      <th>YearsInCurrentRole</th>\n",
       "      <th>YearsSinceLastPromotion</th>\n",
       "      <th>YearsWithCurrManager</th>\n",
       "    </tr>\n",
       "  </thead>\n",
       "  <tbody>\n",
       "    <tr>\n",
       "      <th>0</th>\n",
       "      <td>41</td>\n",
       "      <td>Yes</td>\n",
       "      <td>Travel_Rarely</td>\n",
       "      <td>1102</td>\n",
       "      <td>Sales</td>\n",
       "      <td>1</td>\n",
       "      <td>2</td>\n",
       "      <td>Life Sciences</td>\n",
       "      <td>1</td>\n",
       "      <td>1</td>\n",
       "      <td>...</td>\n",
       "      <td>1</td>\n",
       "      <td>80</td>\n",
       "      <td>0</td>\n",
       "      <td>8</td>\n",
       "      <td>0</td>\n",
       "      <td>1</td>\n",
       "      <td>6</td>\n",
       "      <td>4</td>\n",
       "      <td>0</td>\n",
       "      <td>5</td>\n",
       "    </tr>\n",
       "    <tr>\n",
       "      <th>1</th>\n",
       "      <td>49</td>\n",
       "      <td>No</td>\n",
       "      <td>Travel_Frequently</td>\n",
       "      <td>279</td>\n",
       "      <td>Research &amp; Development</td>\n",
       "      <td>8</td>\n",
       "      <td>1</td>\n",
       "      <td>Life Sciences</td>\n",
       "      <td>1</td>\n",
       "      <td>2</td>\n",
       "      <td>...</td>\n",
       "      <td>4</td>\n",
       "      <td>80</td>\n",
       "      <td>1</td>\n",
       "      <td>10</td>\n",
       "      <td>3</td>\n",
       "      <td>3</td>\n",
       "      <td>10</td>\n",
       "      <td>7</td>\n",
       "      <td>1</td>\n",
       "      <td>7</td>\n",
       "    </tr>\n",
       "    <tr>\n",
       "      <th>2</th>\n",
       "      <td>37</td>\n",
       "      <td>Yes</td>\n",
       "      <td>Travel_Rarely</td>\n",
       "      <td>1373</td>\n",
       "      <td>Research &amp; Development</td>\n",
       "      <td>2</td>\n",
       "      <td>2</td>\n",
       "      <td>Other</td>\n",
       "      <td>1</td>\n",
       "      <td>4</td>\n",
       "      <td>...</td>\n",
       "      <td>2</td>\n",
       "      <td>80</td>\n",
       "      <td>0</td>\n",
       "      <td>7</td>\n",
       "      <td>3</td>\n",
       "      <td>3</td>\n",
       "      <td>0</td>\n",
       "      <td>0</td>\n",
       "      <td>0</td>\n",
       "      <td>0</td>\n",
       "    </tr>\n",
       "    <tr>\n",
       "      <th>3</th>\n",
       "      <td>33</td>\n",
       "      <td>No</td>\n",
       "      <td>Travel_Frequently</td>\n",
       "      <td>1392</td>\n",
       "      <td>Research &amp; Development</td>\n",
       "      <td>3</td>\n",
       "      <td>4</td>\n",
       "      <td>Life Sciences</td>\n",
       "      <td>1</td>\n",
       "      <td>5</td>\n",
       "      <td>...</td>\n",
       "      <td>3</td>\n",
       "      <td>80</td>\n",
       "      <td>0</td>\n",
       "      <td>8</td>\n",
       "      <td>3</td>\n",
       "      <td>3</td>\n",
       "      <td>8</td>\n",
       "      <td>7</td>\n",
       "      <td>3</td>\n",
       "      <td>0</td>\n",
       "    </tr>\n",
       "    <tr>\n",
       "      <th>4</th>\n",
       "      <td>27</td>\n",
       "      <td>No</td>\n",
       "      <td>Travel_Rarely</td>\n",
       "      <td>591</td>\n",
       "      <td>Research &amp; Development</td>\n",
       "      <td>2</td>\n",
       "      <td>1</td>\n",
       "      <td>Medical</td>\n",
       "      <td>1</td>\n",
       "      <td>7</td>\n",
       "      <td>...</td>\n",
       "      <td>4</td>\n",
       "      <td>80</td>\n",
       "      <td>1</td>\n",
       "      <td>6</td>\n",
       "      <td>3</td>\n",
       "      <td>3</td>\n",
       "      <td>2</td>\n",
       "      <td>2</td>\n",
       "      <td>2</td>\n",
       "      <td>2</td>\n",
       "    </tr>\n",
       "  </tbody>\n",
       "</table>\n",
       "<p>5 rows × 35 columns</p>\n",
       "</div>"
      ],
      "text/plain": [
       "   Age Attrition     BusinessTravel  DailyRate              Department  \\\n",
       "0   41       Yes      Travel_Rarely       1102                   Sales   \n",
       "1   49        No  Travel_Frequently        279  Research & Development   \n",
       "2   37       Yes      Travel_Rarely       1373  Research & Development   \n",
       "3   33        No  Travel_Frequently       1392  Research & Development   \n",
       "4   27        No      Travel_Rarely        591  Research & Development   \n",
       "\n",
       "   DistanceFromHome  Education EducationField  EmployeeCount  EmployeeNumber  \\\n",
       "0                 1          2  Life Sciences              1               1   \n",
       "1                 8          1  Life Sciences              1               2   \n",
       "2                 2          2          Other              1               4   \n",
       "3                 3          4  Life Sciences              1               5   \n",
       "4                 2          1        Medical              1               7   \n",
       "\n",
       "   ...  RelationshipSatisfaction StandardHours  StockOptionLevel  \\\n",
       "0  ...                         1            80                 0   \n",
       "1  ...                         4            80                 1   \n",
       "2  ...                         2            80                 0   \n",
       "3  ...                         3            80                 0   \n",
       "4  ...                         4            80                 1   \n",
       "\n",
       "   TotalWorkingYears  TrainingTimesLastYear WorkLifeBalance  YearsAtCompany  \\\n",
       "0                  8                      0               1               6   \n",
       "1                 10                      3               3              10   \n",
       "2                  7                      3               3               0   \n",
       "3                  8                      3               3               8   \n",
       "4                  6                      3               3               2   \n",
       "\n",
       "  YearsInCurrentRole  YearsSinceLastPromotion  YearsWithCurrManager  \n",
       "0                  4                        0                     5  \n",
       "1                  7                        1                     7  \n",
       "2                  0                        0                     0  \n",
       "3                  7                        3                     0  \n",
       "4                  2                        2                     2  \n",
       "\n",
       "[5 rows x 35 columns]"
      ]
     },
     "execution_count": 445,
     "metadata": {},
     "output_type": "execute_result"
    }
   ],
   "source": [
    "df = pd.read_csv(\"./data/WA_Fn-UseC_-HR-Employee-Attrition.csv\")\n",
    "df.head()"
   ]
  },
  {
   "cell_type": "code",
   "execution_count": 446,
   "metadata": {},
   "outputs": [
    {
     "data": {
      "text/plain": [
       "Index(['Age', 'Attrition', 'BusinessTravel', 'DailyRate', 'Department',\n",
       "       'DistanceFromHome', 'Education', 'EducationField', 'EmployeeCount',\n",
       "       'EmployeeNumber', 'EnvironmentSatisfaction', 'Gender', 'HourlyRate',\n",
       "       'JobInvolvement', 'JobLevel', 'JobRole', 'JobSatisfaction',\n",
       "       'MaritalStatus', 'MonthlyIncome', 'MonthlyRate', 'NumCompaniesWorked',\n",
       "       'Over18', 'OverTime', 'PercentSalaryHike', 'PerformanceRating',\n",
       "       'RelationshipSatisfaction', 'StandardHours', 'StockOptionLevel',\n",
       "       'TotalWorkingYears', 'TrainingTimesLastYear', 'WorkLifeBalance',\n",
       "       'YearsAtCompany', 'YearsInCurrentRole', 'YearsSinceLastPromotion',\n",
       "       'YearsWithCurrManager'],\n",
       "      dtype='object')"
      ]
     },
     "execution_count": 446,
     "metadata": {},
     "output_type": "execute_result"
    }
   ],
   "source": [
    "df.columns"
   ]
  },
  {
   "cell_type": "code",
   "execution_count": 447,
   "metadata": {},
   "outputs": [
    {
     "data": {
      "text/plain": [
       "(1470, 35)"
      ]
     },
     "execution_count": 447,
     "metadata": {},
     "output_type": "execute_result"
    }
   ],
   "source": [
    "df.shape # Attrition, PerformanceRating"
   ]
  },
  {
   "cell_type": "code",
   "execution_count": 448,
   "metadata": {},
   "outputs": [
    {
     "name": "stdout",
     "output_type": "stream",
     "text": [
      "<class 'pandas.core.frame.DataFrame'>\n",
      "RangeIndex: 1470 entries, 0 to 1469\n",
      "Data columns (total 35 columns):\n",
      " #   Column                    Non-Null Count  Dtype \n",
      "---  ------                    --------------  ----- \n",
      " 0   Age                       1470 non-null   int64 \n",
      " 1   Attrition                 1470 non-null   object\n",
      " 2   BusinessTravel            1470 non-null   object\n",
      " 3   DailyRate                 1470 non-null   int64 \n",
      " 4   Department                1470 non-null   object\n",
      " 5   DistanceFromHome          1470 non-null   int64 \n",
      " 6   Education                 1470 non-null   int64 \n",
      " 7   EducationField            1470 non-null   object\n",
      " 8   EmployeeCount             1470 non-null   int64 \n",
      " 9   EmployeeNumber            1470 non-null   int64 \n",
      " 10  EnvironmentSatisfaction   1470 non-null   int64 \n",
      " 11  Gender                    1470 non-null   object\n",
      " 12  HourlyRate                1470 non-null   int64 \n",
      " 13  JobInvolvement            1470 non-null   int64 \n",
      " 14  JobLevel                  1470 non-null   int64 \n",
      " 15  JobRole                   1470 non-null   object\n",
      " 16  JobSatisfaction           1470 non-null   int64 \n",
      " 17  MaritalStatus             1470 non-null   object\n",
      " 18  MonthlyIncome             1470 non-null   int64 \n",
      " 19  MonthlyRate               1470 non-null   int64 \n",
      " 20  NumCompaniesWorked        1470 non-null   int64 \n",
      " 21  Over18                    1470 non-null   object\n",
      " 22  OverTime                  1470 non-null   object\n",
      " 23  PercentSalaryHike         1470 non-null   int64 \n",
      " 24  PerformanceRating         1470 non-null   int64 \n",
      " 25  RelationshipSatisfaction  1470 non-null   int64 \n",
      " 26  StandardHours             1470 non-null   int64 \n",
      " 27  StockOptionLevel          1470 non-null   int64 \n",
      " 28  TotalWorkingYears         1470 non-null   int64 \n",
      " 29  TrainingTimesLastYear     1470 non-null   int64 \n",
      " 30  WorkLifeBalance           1470 non-null   int64 \n",
      " 31  YearsAtCompany            1470 non-null   int64 \n",
      " 32  YearsInCurrentRole        1470 non-null   int64 \n",
      " 33  YearsSinceLastPromotion   1470 non-null   int64 \n",
      " 34  YearsWithCurrManager      1470 non-null   int64 \n",
      "dtypes: int64(26), object(9)\n",
      "memory usage: 402.1+ KB\n"
     ]
    }
   ],
   "source": [
    "df.info()"
   ]
  },
  {
   "cell_type": "code",
   "execution_count": 449,
   "metadata": {},
   "outputs": [
    {
     "data": {
      "application/vnd.plotly.v1+json": {
       "config": {
        "plotlyServerURL": "https://plot.ly"
       },
       "data": [
        {
         "type": "bar",
         "x": [
          "Age",
          "Attrition",
          "BusinessTravel",
          "DailyRate",
          "Department",
          "DistanceFromHome",
          "Education",
          "EducationField",
          "EmployeeCount",
          "EmployeeNumber",
          "EnvironmentSatisfaction",
          "Gender",
          "HourlyRate",
          "JobInvolvement",
          "JobLevel",
          "JobRole",
          "JobSatisfaction",
          "MaritalStatus",
          "MonthlyIncome",
          "MonthlyRate",
          "NumCompaniesWorked",
          "Over18",
          "OverTime",
          "PercentSalaryHike",
          "PerformanceRating",
          "RelationshipSatisfaction",
          "StandardHours",
          "StockOptionLevel",
          "TotalWorkingYears",
          "TrainingTimesLastYear",
          "WorkLifeBalance",
          "YearsAtCompany",
          "YearsInCurrentRole",
          "YearsSinceLastPromotion",
          "YearsWithCurrManager"
         ],
         "y": [
          0,
          0,
          0,
          0,
          0,
          0,
          0,
          0,
          0,
          0,
          0,
          0,
          0,
          0,
          0,
          0,
          0,
          0,
          0,
          0,
          0,
          0,
          0,
          0,
          0,
          0,
          0,
          0,
          0,
          0,
          0,
          0,
          0,
          0,
          0
         ]
        }
       ],
       "layout": {
        "template": {
         "data": {
          "bar": [
           {
            "error_x": {
             "color": "#2a3f5f"
            },
            "error_y": {
             "color": "#2a3f5f"
            },
            "marker": {
             "line": {
              "color": "#E5ECF6",
              "width": 0.5
             },
             "pattern": {
              "fillmode": "overlay",
              "size": 10,
              "solidity": 0.2
             }
            },
            "type": "bar"
           }
          ],
          "barpolar": [
           {
            "marker": {
             "line": {
              "color": "#E5ECF6",
              "width": 0.5
             },
             "pattern": {
              "fillmode": "overlay",
              "size": 10,
              "solidity": 0.2
             }
            },
            "type": "barpolar"
           }
          ],
          "carpet": [
           {
            "aaxis": {
             "endlinecolor": "#2a3f5f",
             "gridcolor": "white",
             "linecolor": "white",
             "minorgridcolor": "white",
             "startlinecolor": "#2a3f5f"
            },
            "baxis": {
             "endlinecolor": "#2a3f5f",
             "gridcolor": "white",
             "linecolor": "white",
             "minorgridcolor": "white",
             "startlinecolor": "#2a3f5f"
            },
            "type": "carpet"
           }
          ],
          "choropleth": [
           {
            "colorbar": {
             "outlinewidth": 0,
             "ticks": ""
            },
            "type": "choropleth"
           }
          ],
          "contour": [
           {
            "colorbar": {
             "outlinewidth": 0,
             "ticks": ""
            },
            "colorscale": [
             [
              0,
              "#0d0887"
             ],
             [
              0.1111111111111111,
              "#46039f"
             ],
             [
              0.2222222222222222,
              "#7201a8"
             ],
             [
              0.3333333333333333,
              "#9c179e"
             ],
             [
              0.4444444444444444,
              "#bd3786"
             ],
             [
              0.5555555555555556,
              "#d8576b"
             ],
             [
              0.6666666666666666,
              "#ed7953"
             ],
             [
              0.7777777777777778,
              "#fb9f3a"
             ],
             [
              0.8888888888888888,
              "#fdca26"
             ],
             [
              1,
              "#f0f921"
             ]
            ],
            "type": "contour"
           }
          ],
          "contourcarpet": [
           {
            "colorbar": {
             "outlinewidth": 0,
             "ticks": ""
            },
            "type": "contourcarpet"
           }
          ],
          "heatmap": [
           {
            "colorbar": {
             "outlinewidth": 0,
             "ticks": ""
            },
            "colorscale": [
             [
              0,
              "#0d0887"
             ],
             [
              0.1111111111111111,
              "#46039f"
             ],
             [
              0.2222222222222222,
              "#7201a8"
             ],
             [
              0.3333333333333333,
              "#9c179e"
             ],
             [
              0.4444444444444444,
              "#bd3786"
             ],
             [
              0.5555555555555556,
              "#d8576b"
             ],
             [
              0.6666666666666666,
              "#ed7953"
             ],
             [
              0.7777777777777778,
              "#fb9f3a"
             ],
             [
              0.8888888888888888,
              "#fdca26"
             ],
             [
              1,
              "#f0f921"
             ]
            ],
            "type": "heatmap"
           }
          ],
          "heatmapgl": [
           {
            "colorbar": {
             "outlinewidth": 0,
             "ticks": ""
            },
            "colorscale": [
             [
              0,
              "#0d0887"
             ],
             [
              0.1111111111111111,
              "#46039f"
             ],
             [
              0.2222222222222222,
              "#7201a8"
             ],
             [
              0.3333333333333333,
              "#9c179e"
             ],
             [
              0.4444444444444444,
              "#bd3786"
             ],
             [
              0.5555555555555556,
              "#d8576b"
             ],
             [
              0.6666666666666666,
              "#ed7953"
             ],
             [
              0.7777777777777778,
              "#fb9f3a"
             ],
             [
              0.8888888888888888,
              "#fdca26"
             ],
             [
              1,
              "#f0f921"
             ]
            ],
            "type": "heatmapgl"
           }
          ],
          "histogram": [
           {
            "marker": {
             "pattern": {
              "fillmode": "overlay",
              "size": 10,
              "solidity": 0.2
             }
            },
            "type": "histogram"
           }
          ],
          "histogram2d": [
           {
            "colorbar": {
             "outlinewidth": 0,
             "ticks": ""
            },
            "colorscale": [
             [
              0,
              "#0d0887"
             ],
             [
              0.1111111111111111,
              "#46039f"
             ],
             [
              0.2222222222222222,
              "#7201a8"
             ],
             [
              0.3333333333333333,
              "#9c179e"
             ],
             [
              0.4444444444444444,
              "#bd3786"
             ],
             [
              0.5555555555555556,
              "#d8576b"
             ],
             [
              0.6666666666666666,
              "#ed7953"
             ],
             [
              0.7777777777777778,
              "#fb9f3a"
             ],
             [
              0.8888888888888888,
              "#fdca26"
             ],
             [
              1,
              "#f0f921"
             ]
            ],
            "type": "histogram2d"
           }
          ],
          "histogram2dcontour": [
           {
            "colorbar": {
             "outlinewidth": 0,
             "ticks": ""
            },
            "colorscale": [
             [
              0,
              "#0d0887"
             ],
             [
              0.1111111111111111,
              "#46039f"
             ],
             [
              0.2222222222222222,
              "#7201a8"
             ],
             [
              0.3333333333333333,
              "#9c179e"
             ],
             [
              0.4444444444444444,
              "#bd3786"
             ],
             [
              0.5555555555555556,
              "#d8576b"
             ],
             [
              0.6666666666666666,
              "#ed7953"
             ],
             [
              0.7777777777777778,
              "#fb9f3a"
             ],
             [
              0.8888888888888888,
              "#fdca26"
             ],
             [
              1,
              "#f0f921"
             ]
            ],
            "type": "histogram2dcontour"
           }
          ],
          "mesh3d": [
           {
            "colorbar": {
             "outlinewidth": 0,
             "ticks": ""
            },
            "type": "mesh3d"
           }
          ],
          "parcoords": [
           {
            "line": {
             "colorbar": {
              "outlinewidth": 0,
              "ticks": ""
             }
            },
            "type": "parcoords"
           }
          ],
          "pie": [
           {
            "automargin": true,
            "type": "pie"
           }
          ],
          "scatter": [
           {
            "marker": {
             "colorbar": {
              "outlinewidth": 0,
              "ticks": ""
             }
            },
            "type": "scatter"
           }
          ],
          "scatter3d": [
           {
            "line": {
             "colorbar": {
              "outlinewidth": 0,
              "ticks": ""
             }
            },
            "marker": {
             "colorbar": {
              "outlinewidth": 0,
              "ticks": ""
             }
            },
            "type": "scatter3d"
           }
          ],
          "scattercarpet": [
           {
            "marker": {
             "colorbar": {
              "outlinewidth": 0,
              "ticks": ""
             }
            },
            "type": "scattercarpet"
           }
          ],
          "scattergeo": [
           {
            "marker": {
             "colorbar": {
              "outlinewidth": 0,
              "ticks": ""
             }
            },
            "type": "scattergeo"
           }
          ],
          "scattergl": [
           {
            "marker": {
             "colorbar": {
              "outlinewidth": 0,
              "ticks": ""
             }
            },
            "type": "scattergl"
           }
          ],
          "scattermapbox": [
           {
            "marker": {
             "colorbar": {
              "outlinewidth": 0,
              "ticks": ""
             }
            },
            "type": "scattermapbox"
           }
          ],
          "scatterpolar": [
           {
            "marker": {
             "colorbar": {
              "outlinewidth": 0,
              "ticks": ""
             }
            },
            "type": "scatterpolar"
           }
          ],
          "scatterpolargl": [
           {
            "marker": {
             "colorbar": {
              "outlinewidth": 0,
              "ticks": ""
             }
            },
            "type": "scatterpolargl"
           }
          ],
          "scatterternary": [
           {
            "marker": {
             "colorbar": {
              "outlinewidth": 0,
              "ticks": ""
             }
            },
            "type": "scatterternary"
           }
          ],
          "surface": [
           {
            "colorbar": {
             "outlinewidth": 0,
             "ticks": ""
            },
            "colorscale": [
             [
              0,
              "#0d0887"
             ],
             [
              0.1111111111111111,
              "#46039f"
             ],
             [
              0.2222222222222222,
              "#7201a8"
             ],
             [
              0.3333333333333333,
              "#9c179e"
             ],
             [
              0.4444444444444444,
              "#bd3786"
             ],
             [
              0.5555555555555556,
              "#d8576b"
             ],
             [
              0.6666666666666666,
              "#ed7953"
             ],
             [
              0.7777777777777778,
              "#fb9f3a"
             ],
             [
              0.8888888888888888,
              "#fdca26"
             ],
             [
              1,
              "#f0f921"
             ]
            ],
            "type": "surface"
           }
          ],
          "table": [
           {
            "cells": {
             "fill": {
              "color": "#EBF0F8"
             },
             "line": {
              "color": "white"
             }
            },
            "header": {
             "fill": {
              "color": "#C8D4E3"
             },
             "line": {
              "color": "white"
             }
            },
            "type": "table"
           }
          ]
         },
         "layout": {
          "annotationdefaults": {
           "arrowcolor": "#2a3f5f",
           "arrowhead": 0,
           "arrowwidth": 1
          },
          "autotypenumbers": "strict",
          "coloraxis": {
           "colorbar": {
            "outlinewidth": 0,
            "ticks": ""
           }
          },
          "colorscale": {
           "diverging": [
            [
             0,
             "#8e0152"
            ],
            [
             0.1,
             "#c51b7d"
            ],
            [
             0.2,
             "#de77ae"
            ],
            [
             0.3,
             "#f1b6da"
            ],
            [
             0.4,
             "#fde0ef"
            ],
            [
             0.5,
             "#f7f7f7"
            ],
            [
             0.6,
             "#e6f5d0"
            ],
            [
             0.7,
             "#b8e186"
            ],
            [
             0.8,
             "#7fbc41"
            ],
            [
             0.9,
             "#4d9221"
            ],
            [
             1,
             "#276419"
            ]
           ],
           "sequential": [
            [
             0,
             "#0d0887"
            ],
            [
             0.1111111111111111,
             "#46039f"
            ],
            [
             0.2222222222222222,
             "#7201a8"
            ],
            [
             0.3333333333333333,
             "#9c179e"
            ],
            [
             0.4444444444444444,
             "#bd3786"
            ],
            [
             0.5555555555555556,
             "#d8576b"
            ],
            [
             0.6666666666666666,
             "#ed7953"
            ],
            [
             0.7777777777777778,
             "#fb9f3a"
            ],
            [
             0.8888888888888888,
             "#fdca26"
            ],
            [
             1,
             "#f0f921"
            ]
           ],
           "sequentialminus": [
            [
             0,
             "#0d0887"
            ],
            [
             0.1111111111111111,
             "#46039f"
            ],
            [
             0.2222222222222222,
             "#7201a8"
            ],
            [
             0.3333333333333333,
             "#9c179e"
            ],
            [
             0.4444444444444444,
             "#bd3786"
            ],
            [
             0.5555555555555556,
             "#d8576b"
            ],
            [
             0.6666666666666666,
             "#ed7953"
            ],
            [
             0.7777777777777778,
             "#fb9f3a"
            ],
            [
             0.8888888888888888,
             "#fdca26"
            ],
            [
             1,
             "#f0f921"
            ]
           ]
          },
          "colorway": [
           "#636efa",
           "#EF553B",
           "#00cc96",
           "#ab63fa",
           "#FFA15A",
           "#19d3f3",
           "#FF6692",
           "#B6E880",
           "#FF97FF",
           "#FECB52"
          ],
          "font": {
           "color": "#2a3f5f"
          },
          "geo": {
           "bgcolor": "white",
           "lakecolor": "white",
           "landcolor": "#E5ECF6",
           "showlakes": true,
           "showland": true,
           "subunitcolor": "white"
          },
          "hoverlabel": {
           "align": "left"
          },
          "hovermode": "closest",
          "mapbox": {
           "style": "light"
          },
          "paper_bgcolor": "white",
          "plot_bgcolor": "#E5ECF6",
          "polar": {
           "angularaxis": {
            "gridcolor": "white",
            "linecolor": "white",
            "ticks": ""
           },
           "bgcolor": "#E5ECF6",
           "radialaxis": {
            "gridcolor": "white",
            "linecolor": "white",
            "ticks": ""
           }
          },
          "scene": {
           "xaxis": {
            "backgroundcolor": "#E5ECF6",
            "gridcolor": "white",
            "gridwidth": 2,
            "linecolor": "white",
            "showbackground": true,
            "ticks": "",
            "zerolinecolor": "white"
           },
           "yaxis": {
            "backgroundcolor": "#E5ECF6",
            "gridcolor": "white",
            "gridwidth": 2,
            "linecolor": "white",
            "showbackground": true,
            "ticks": "",
            "zerolinecolor": "white"
           },
           "zaxis": {
            "backgroundcolor": "#E5ECF6",
            "gridcolor": "white",
            "gridwidth": 2,
            "linecolor": "white",
            "showbackground": true,
            "ticks": "",
            "zerolinecolor": "white"
           }
          },
          "shapedefaults": {
           "line": {
            "color": "#2a3f5f"
           }
          },
          "ternary": {
           "aaxis": {
            "gridcolor": "white",
            "linecolor": "white",
            "ticks": ""
           },
           "baxis": {
            "gridcolor": "white",
            "linecolor": "white",
            "ticks": ""
           },
           "bgcolor": "#E5ECF6",
           "caxis": {
            "gridcolor": "white",
            "linecolor": "white",
            "ticks": ""
           }
          },
          "title": {
           "x": 0.05
          },
          "xaxis": {
           "automargin": true,
           "gridcolor": "white",
           "linecolor": "white",
           "ticks": "",
           "title": {
            "standoff": 15
           },
           "zerolinecolor": "white",
           "zerolinewidth": 2
          },
          "yaxis": {
           "automargin": true,
           "gridcolor": "white",
           "linecolor": "white",
           "ticks": "",
           "title": {
            "standoff": 15
           },
           "zerolinecolor": "white",
           "zerolinewidth": 2
          }
         }
        },
        "title": {
         "text": "NaN values by column"
        },
        "width": 1200
       }
      }
     },
     "metadata": {},
     "output_type": "display_data"
    }
   ],
   "source": [
    "# df.isnull().sum().plot(kind=\"bar\", title=\"Missing Values\")\n",
    "import plotly.graph_objects as go\n",
    "fig = go.Figure([go.Bar(\n",
    "                x=df.isnull().sum().index, \n",
    "                y=df.isnull().sum())\n",
    "                ])\n",
    "fig.update_layout(title='NaN values by column', width=1200)\n",
    "fig.show()"
   ]
  },
  {
   "cell_type": "code",
   "execution_count": 450,
   "metadata": {},
   "outputs": [
    {
     "name": "stdout",
     "output_type": "stream",
     "text": [
      "*************************************************************\n",
      "Column name Age       column type int64\n",
      "[41 49 37 33 27 32 59 30 38 36 35 29 31 34 28 22 53 24 21 42 44 46 39 43\n",
      " 50 26 48 55 45 56 23 51 40 54 58 20 25 19 57 52 47 18 60]\n",
      "*************************************************************\n",
      "Column name Attrition       column type object\n",
      "['Yes' 'No']\n",
      "*************************************************************\n",
      "Column name BusinessTravel       column type object\n",
      "['Travel_Rarely' 'Travel_Frequently' 'Non-Travel']\n",
      "*************************************************************\n",
      "Column name DailyRate       column type int64\n",
      "[1102  279 1373 1392  591 1005 1324 1358  216 1299  809  153  670 1346\n",
      "  103 1389  334 1123 1219  371  673 1218  419  391  699 1282 1125  691\n",
      "  477  705  924 1459  125  895  813 1273  869  890  852 1141  464 1240\n",
      " 1357  994  721 1360 1065  408 1211 1229  626 1434 1488 1097 1443  515\n",
      "  853 1142  655 1115  427  653  989 1435 1223  836 1195 1339  664  318\n",
      " 1225 1328 1082  548  132  746  776  193  397  945 1214  111  573 1153\n",
      " 1400  541  432  288  669  530  632 1334  638 1093 1217 1353  120  682\n",
      "  489  807  827  871  665 1040 1420  240 1280  534 1456  658  142 1127\n",
      " 1031 1189 1354 1467  922  394 1312  750  441  684  249  841  147  528\n",
      "  594  470  957  542  802 1355 1150 1329  959 1033 1316  364  438  689\n",
      "  201 1427  857  933 1181 1395  662 1436  194  967 1496 1169 1145  630\n",
      "  303 1256  440 1450 1452  465  702 1157  602 1480 1268  713  134  526\n",
      " 1380  140  629 1356  328 1084  931  692 1069  313  894  556 1344  290\n",
      "  138  926 1261  472 1002  878  905 1180  121 1136  635 1151  644 1045\n",
      "  829 1242 1469  896  992 1052 1147 1396  663  119  979  319 1413  944\n",
      " 1323  532  818  854 1034  771 1401 1431  976 1411 1300  252 1327  832\n",
      " 1017 1199  504  505  916 1247  685  269 1416  833  307 1311  128  488\n",
      "  529 1210 1463  675 1385 1403  452  666 1158  228  996  728 1315  322\n",
      " 1479  797 1070  442  496 1372  920  688 1449 1117  636  506  444  950\n",
      "  889  555  230 1232  566 1302  812 1476  218 1132 1105  906  849  390\n",
      "  106 1249  192  553  117  185 1091  723 1220  588 1377 1018 1275  798\n",
      "  672 1162  508 1482  559  210  928 1001  549 1124  738  570 1130 1192\n",
      "  343  144 1296 1309  483  810  544 1062 1319  641 1332  756  845  593\n",
      " 1171  350  921 1144  143 1046  575  156 1283  755  304 1178  329 1362\n",
      " 1371  202  253  164 1107  759 1305  982  821 1381  480 1473  891 1063\n",
      "  645 1490  317  422 1485 1368 1448  296 1398 1349  986 1099 1116 1499\n",
      "  983 1009 1303 1274 1277  587  413 1276  988 1474  163  267  619  302\n",
      "  443  828  561  426  232 1306 1094  509  775  195  258  471  799  956\n",
      "  535 1495  446 1245  703  823 1246  622 1287  448  254 1365  538  525\n",
      "  558  782  362 1236 1112  204 1343  604 1216  646  160  238 1397  306\n",
      "  991  482 1176  913 1076  727  885  243  806  817 1410 1207 1442  693\n",
      "  929  562  608  580  970 1179  294  314  316  654  168  381  217  501\n",
      "  650  141  804  975 1090  346  430  268  167  621  527  883  954  310\n",
      "  719  725  715  657 1146  182  376  571  384  791 1111 1243 1092 1325\n",
      "  805  213  118  676 1252  286 1258  932 1041  859  720  946 1184  436\n",
      "  589  760  887 1318  625  180  586 1012  661  930  342 1230 1271 1278\n",
      "  607  130  300  583 1418 1269  379  395 1265 1222  341  868 1231  102\n",
      "  881 1383 1075  374 1086  781  177  500 1425 1454  617 1085  995 1122\n",
      "  618  546  462 1198 1272  154 1137 1188  188 1333  867  263  938  129\n",
      "  616  498 1404 1053  289 1376  231  152  882  903 1379  335  722  461\n",
      "  974 1126  840 1134  248  955  939 1391 1206  287 1441  109 1066  277\n",
      "  466 1055  265  135  247 1035  266  145 1038 1234 1109 1089  788  124\n",
      "  660 1186 1464  796  415  769 1003 1366  330 1492 1204  309 1330  469\n",
      "  697 1262 1050  770  406  203 1308  984  439  793 1451 1182  174  490\n",
      "  718  433  773  603  874  367  199  481  647 1384  902  819  862 1457\n",
      "  977  942 1402 1421 1361  917  200  150  179  696  116  363  107 1465\n",
      "  458 1212 1103  966 1010  326 1098  969 1167  694 1320  536  373  599\n",
      "  251  131  237 1429  648  735  531  429  968  879  640  412  848  360\n",
      " 1138  325 1322  299 1030  634  524  256 1060  935  495  282  206  943\n",
      "  523  507  601  855 1291 1405 1369  999 1202  285  404  736 1498 1200\n",
      " 1439  499  205  683 1462  949  652  332 1475  337  971 1174  667  560\n",
      "  172  383 1255  359  401  377  592 1445 1221  866  981  447 1326  748\n",
      "  990  405  115  790  830 1193 1423  467  271  410 1083  516  224  136\n",
      " 1029  333 1440  674 1342  898  824  492  598  740  888 1288  104 1108\n",
      "  479 1351  474  437  884 1370  264 1059  563  457 1313  241 1015  336\n",
      " 1387  170  208  671  711  737 1470  365  763  567  486  772  301  311\n",
      "  584  880  392  148  708 1259  786  370  678  146  581  918 1238  585\n",
      "  741  552  369  717  543  964  792  611  176  897  600 1054  428  181\n",
      "  211 1079  590  305  953  478 1375  244  511 1294  196  734 1239 1253\n",
      " 1128 1336  234  766  261 1194  431  572 1422 1297  574  355  207  706\n",
      "  280  726  414  352 1224  459 1254 1131  835 1172 1266  783  219 1213\n",
      " 1096 1251 1394  605 1064 1337  937  157  754 1168  155 1444  189  911\n",
      " 1321 1154  557  642  801  161 1382 1037  105  582  704  345 1120 1378\n",
      "  468  613 1023  628]\n",
      "*************************************************************\n",
      "Column name Department       column type object\n",
      "['Sales' 'Research & Development' 'Human Resources']\n",
      "*************************************************************\n",
      "Column name DistanceFromHome       column type int64\n",
      "[ 1  8  2  3 24 23 27 16 15 26 19 21  5 11  9  7  6 10  4 25 12 18 29 22\n",
      " 14 20 28 17 13]\n",
      "*************************************************************\n",
      "Column name Education       column type int64\n",
      "[2 1 4 3 5]\n",
      "*************************************************************\n",
      "Column name EducationField       column type object\n",
      "['Life Sciences' 'Other' 'Medical' 'Marketing' 'Technical Degree'\n",
      " 'Human Resources']\n",
      "*************************************************************\n",
      "Column name EmployeeCount       column type int64\n",
      "[1]\n",
      "*************************************************************\n",
      "Column name EmployeeNumber       column type int64\n",
      "[   1    2    4 ... 2064 2065 2068]\n",
      "*************************************************************\n",
      "Column name EnvironmentSatisfaction       column type int64\n",
      "[2 3 4 1]\n",
      "*************************************************************\n",
      "Column name Gender       column type object\n",
      "['Female' 'Male']\n",
      "*************************************************************\n",
      "Column name HourlyRate       column type int64\n",
      "[ 94  61  92  56  40  79  81  67  44  84  49  31  93  50  51  80  96  78\n",
      "  45  82  53  83  58  72  48  42  41  86  97  75  33  37  73  98  36  47\n",
      "  71  30  43  99  59  95  57  76  87  66  55  32  52  70  62  64  63  60\n",
      " 100  46  39  77  35  91  54  34  90  65  88  85  89  68  69  74  38]\n",
      "*************************************************************\n",
      "Column name JobInvolvement       column type int64\n",
      "[3 2 4 1]\n",
      "*************************************************************\n",
      "Column name JobLevel       column type int64\n",
      "[2 1 3 4 5]\n",
      "*************************************************************\n",
      "Column name JobRole       column type object\n",
      "['Sales Executive' 'Research Scientist' 'Laboratory Technician'\n",
      " 'Manufacturing Director' 'Healthcare Representative' 'Manager'\n",
      " 'Sales Representative' 'Research Director' 'Human Resources']\n",
      "*************************************************************\n",
      "Column name JobSatisfaction       column type int64\n",
      "[4 2 3 1]\n",
      "*************************************************************\n",
      "Column name MaritalStatus       column type object\n",
      "['Single' 'Married' 'Divorced']\n",
      "*************************************************************\n",
      "Column name MonthlyIncome       column type int64\n",
      "[5993 5130 2090 ... 9991 5390 4404]\n",
      "*************************************************************\n",
      "Column name MonthlyRate       column type int64\n",
      "[19479 24907  2396 ...  5174 13243 10228]\n",
      "*************************************************************\n",
      "Column name NumCompaniesWorked       column type int64\n",
      "[8 1 6 9 0 4 5 2 7 3]\n",
      "*************************************************************\n",
      "Column name Over18       column type object\n",
      "['Y']\n",
      "*************************************************************\n",
      "Column name OverTime       column type object\n",
      "['Yes' 'No']\n",
      "*************************************************************\n",
      "Column name PercentSalaryHike       column type int64\n",
      "[11 23 15 12 13 20 22 21 17 14 16 18 19 24 25]\n",
      "*************************************************************\n",
      "Column name PerformanceRating       column type int64\n",
      "[3 4]\n",
      "*************************************************************\n",
      "Column name RelationshipSatisfaction       column type int64\n",
      "[1 4 2 3]\n",
      "*************************************************************\n",
      "Column name StandardHours       column type int64\n",
      "[80]\n",
      "*************************************************************\n",
      "Column name StockOptionLevel       column type int64\n",
      "[0 1 3 2]\n",
      "*************************************************************\n",
      "Column name TotalWorkingYears       column type int64\n",
      "[ 8 10  7  6 12  1 17  5  3 31 13  0 26 24 22  9 19  2 23 14 15  4 29 28\n",
      " 21 25 20 11 16 37 38 30 40 18 36 34 32 33 35 27]\n",
      "*************************************************************\n",
      "Column name TrainingTimesLastYear       column type int64\n",
      "[0 3 2 5 1 4 6]\n",
      "*************************************************************\n",
      "Column name WorkLifeBalance       column type int64\n",
      "[1 3 2 4]\n",
      "*************************************************************\n",
      "Column name YearsAtCompany       column type int64\n",
      "[ 6 10  0  8  2  7  1  9  5  4 25  3 12 14 22 15 27 21 17 11 13 37 16 20\n",
      " 40 24 33 19 36 18 29 31 32 34 26 30 23]\n",
      "*************************************************************\n",
      "Column name YearsInCurrentRole       column type int64\n",
      "[ 4  7  0  2  5  9  8  3  6 13  1 15 14 16 11 10 12 18 17]\n",
      "*************************************************************\n",
      "Column name YearsSinceLastPromotion       column type int64\n",
      "[ 0  1  3  2  7  4  8  6  5 15  9 13 12 10 11 14]\n",
      "*************************************************************\n",
      "Column name YearsWithCurrManager       column type int64\n",
      "[ 5  7  0  2  6  8  3 11 17  1  4 12  9 10 15 13 16 14]\n"
     ]
    }
   ],
   "source": [
    "for i in df:\n",
    "    print('*************************************************************')\n",
    "    print('Column name', i, '      column type', df[i].dtypes)\n",
    "    print(df[i].unique())"
   ]
  },
  {
   "cell_type": "code",
   "execution_count": 451,
   "metadata": {},
   "outputs": [],
   "source": [
    "# drop unneccesary columns: EmployeeNumber, DailyRate\n",
    "columns_to_drop = ['DailyRate', 'EmployeeNumber', 'EmployeeCount', 'Over18', 'StandardHours']\n",
    "\n",
    "def removeColumns(columns):\n",
    "    for i in columns:\n",
    "        if i in df:\n",
    "            df.drop(i, inplace=True, axis=1)\n",
    "\n",
    "removeColumns(columns_to_drop)"
   ]
  },
  {
   "cell_type": "code",
   "execution_count": 452,
   "metadata": {},
   "outputs": [
    {
     "data": {
      "text/plain": [
       "(1470, 30)"
      ]
     },
     "execution_count": 452,
     "metadata": {},
     "output_type": "execute_result"
    }
   ],
   "source": [
    "df.shape"
   ]
  },
  {
   "cell_type": "code",
   "execution_count": 453,
   "metadata": {},
   "outputs": [
    {
     "data": {
      "text/plain": [
       "No     1233\n",
       "Yes     237\n",
       "Name: Attrition, dtype: int64"
      ]
     },
     "execution_count": 453,
     "metadata": {},
     "output_type": "execute_result"
    }
   ],
   "source": [
    "df.Attrition.value_counts()"
   ]
  },
  {
   "cell_type": "code",
   "execution_count": 454,
   "metadata": {},
   "outputs": [],
   "source": [
    "# get only numerical and analize them\n",
    "numerics = ['int16', 'int32', 'int64', 'float16', 'float32', 'float64']\n",
    "numeric = df.select_dtypes(include=numerics)\n",
    "\n",
    "category = df.select_dtypes(include=object)"
   ]
  },
  {
   "cell_type": "code",
   "execution_count": 455,
   "metadata": {},
   "outputs": [
    {
     "data": {
      "text/html": [
       "<div>\n",
       "<style scoped>\n",
       "    .dataframe tbody tr th:only-of-type {\n",
       "        vertical-align: middle;\n",
       "    }\n",
       "\n",
       "    .dataframe tbody tr th {\n",
       "        vertical-align: top;\n",
       "    }\n",
       "\n",
       "    .dataframe thead th {\n",
       "        text-align: right;\n",
       "    }\n",
       "</style>\n",
       "<table border=\"1\" class=\"dataframe\">\n",
       "  <thead>\n",
       "    <tr style=\"text-align: right;\">\n",
       "      <th></th>\n",
       "      <th>Age</th>\n",
       "      <th>DistanceFromHome</th>\n",
       "      <th>Education</th>\n",
       "      <th>EnvironmentSatisfaction</th>\n",
       "      <th>HourlyRate</th>\n",
       "      <th>JobInvolvement</th>\n",
       "      <th>JobLevel</th>\n",
       "      <th>JobSatisfaction</th>\n",
       "      <th>MonthlyIncome</th>\n",
       "      <th>MonthlyRate</th>\n",
       "      <th>NumCompaniesWorked</th>\n",
       "      <th>PercentSalaryHike</th>\n",
       "    </tr>\n",
       "  </thead>\n",
       "  <tbody>\n",
       "    <tr>\n",
       "      <th>0</th>\n",
       "      <td>41</td>\n",
       "      <td>1</td>\n",
       "      <td>2</td>\n",
       "      <td>2</td>\n",
       "      <td>94</td>\n",
       "      <td>3</td>\n",
       "      <td>2</td>\n",
       "      <td>4</td>\n",
       "      <td>5993</td>\n",
       "      <td>19479</td>\n",
       "      <td>8</td>\n",
       "      <td>11</td>\n",
       "    </tr>\n",
       "    <tr>\n",
       "      <th>1</th>\n",
       "      <td>49</td>\n",
       "      <td>8</td>\n",
       "      <td>1</td>\n",
       "      <td>3</td>\n",
       "      <td>61</td>\n",
       "      <td>2</td>\n",
       "      <td>2</td>\n",
       "      <td>2</td>\n",
       "      <td>5130</td>\n",
       "      <td>24907</td>\n",
       "      <td>1</td>\n",
       "      <td>23</td>\n",
       "    </tr>\n",
       "    <tr>\n",
       "      <th>2</th>\n",
       "      <td>37</td>\n",
       "      <td>2</td>\n",
       "      <td>2</td>\n",
       "      <td>4</td>\n",
       "      <td>92</td>\n",
       "      <td>2</td>\n",
       "      <td>1</td>\n",
       "      <td>3</td>\n",
       "      <td>2090</td>\n",
       "      <td>2396</td>\n",
       "      <td>6</td>\n",
       "      <td>15</td>\n",
       "    </tr>\n",
       "    <tr>\n",
       "      <th>3</th>\n",
       "      <td>33</td>\n",
       "      <td>3</td>\n",
       "      <td>4</td>\n",
       "      <td>4</td>\n",
       "      <td>56</td>\n",
       "      <td>3</td>\n",
       "      <td>1</td>\n",
       "      <td>3</td>\n",
       "      <td>2909</td>\n",
       "      <td>23159</td>\n",
       "      <td>1</td>\n",
       "      <td>11</td>\n",
       "    </tr>\n",
       "    <tr>\n",
       "      <th>4</th>\n",
       "      <td>27</td>\n",
       "      <td>2</td>\n",
       "      <td>1</td>\n",
       "      <td>1</td>\n",
       "      <td>40</td>\n",
       "      <td>3</td>\n",
       "      <td>1</td>\n",
       "      <td>2</td>\n",
       "      <td>3468</td>\n",
       "      <td>16632</td>\n",
       "      <td>9</td>\n",
       "      <td>12</td>\n",
       "    </tr>\n",
       "  </tbody>\n",
       "</table>\n",
       "</div>"
      ],
      "text/plain": [
       "   Age  DistanceFromHome  Education  EnvironmentSatisfaction  HourlyRate  \\\n",
       "0   41                 1          2                        2          94   \n",
       "1   49                 8          1                        3          61   \n",
       "2   37                 2          2                        4          92   \n",
       "3   33                 3          4                        4          56   \n",
       "4   27                 2          1                        1          40   \n",
       "\n",
       "   JobInvolvement  JobLevel  JobSatisfaction  MonthlyIncome  MonthlyRate  \\\n",
       "0               3         2                4           5993        19479   \n",
       "1               2         2                2           5130        24907   \n",
       "2               2         1                3           2090         2396   \n",
       "3               3         1                3           2909        23159   \n",
       "4               3         1                2           3468        16632   \n",
       "\n",
       "   NumCompaniesWorked  PercentSalaryHike  \n",
       "0                   8                 11  \n",
       "1                   1                 23  \n",
       "2                   6                 15  \n",
       "3                   1                 11  \n",
       "4                   9                 12  "
      ]
     },
     "execution_count": 455,
     "metadata": {},
     "output_type": "execute_result"
    }
   ],
   "source": [
    "numeric.iloc[:,:12].head()"
   ]
  },
  {
   "cell_type": "markdown",
   "metadata": {},
   "source": [
    "# EDA"
   ]
  },
  {
   "cell_type": "code",
   "execution_count": 456,
   "metadata": {},
   "outputs": [],
   "source": [
    "import matplotlib.pyplot as plt\n",
    "import seaborn as sns, numpy as np\n",
    "from pylab import *"
   ]
  },
  {
   "cell_type": "code",
   "execution_count": 457,
   "metadata": {},
   "outputs": [
    {
     "data": {
      "text/plain": [
       "Index(['Age', 'Attrition', 'BusinessTravel', 'Department', 'DistanceFromHome',\n",
       "       'Education', 'EducationField', 'EnvironmentSatisfaction', 'Gender',\n",
       "       'HourlyRate', 'JobInvolvement', 'JobLevel', 'JobRole',\n",
       "       'JobSatisfaction', 'MaritalStatus', 'MonthlyIncome', 'MonthlyRate',\n",
       "       'NumCompaniesWorked', 'OverTime', 'PercentSalaryHike',\n",
       "       'PerformanceRating', 'RelationshipSatisfaction', 'StockOptionLevel',\n",
       "       'TotalWorkingYears', 'TrainingTimesLastYear', 'WorkLifeBalance',\n",
       "       'YearsAtCompany', 'YearsInCurrentRole', 'YearsSinceLastPromotion',\n",
       "       'YearsWithCurrManager'],\n",
       "      dtype='object')"
      ]
     },
     "execution_count": 457,
     "metadata": {},
     "output_type": "execute_result"
    }
   ],
   "source": [
    "df.columns"
   ]
  },
  {
   "cell_type": "code",
   "execution_count": 458,
   "metadata": {},
   "outputs": [
    {
     "data": {
      "text/plain": [
       "<BarContainer object of 2 artists>"
      ]
     },
     "execution_count": 458,
     "metadata": {},
     "output_type": "execute_result"
    },
    {
     "data": {
      "image/png": "[encoded data removed]",
      "text/plain": [
       "<Figure size 648x648 with 2 Axes>"
      ]
     },
     "metadata": {
      "needs_background": "light"
     },
     "output_type": "display_data"
    }
   ],
   "source": [
    "plt.figure(figsize = (9,9))\n",
    "NO, YES = df['Attrition'].value_counts()[0], df['Attrition'].value_counts()[1]\n",
    "data = [YES / (NO + YES) * 100, NO / (NO + YES) * 100]\n",
    "\n",
    "plt.subplot(1,2,1)\n",
    "plt.pie(data, labels = ['Yes', 'No'], autopct='%.0f%%')\n",
    "\n",
    "plt.subplot(1,2,2)\n",
    "plt.bar(['No', 'Yes'], [NO, YES])"
   ]
  },
  {
   "cell_type": "code",
   "execution_count": 459,
   "metadata": {},
   "outputs": [
    {
     "data": {
      "image/png": "[encoded data removed]",
      "text/plain": [
       "<Figure size 504x504 with 4 Axes>"
      ]
     },
     "metadata": {
      "needs_background": "light"
     },
     "output_type": "display_data"
    }
   ],
   "source": [
    "plt.figure(figsize = (7,7))\n",
    "\n",
    "subplot(2,2,1)\n",
    "sns.histplot(df, x=\"Age\", hue=\"Attrition\", element=\"poly\")\n",
    "\n",
    "subplot(2,2,2)\n",
    "sns.histplot(data=df[df.Attrition == 'Yes'], x=\"Age\", kde=True)\n",
    "\n",
    "subplot(2,2,3)\n",
    "sns.histplot(df, x=\"MonthlyIncome\", hue=\"Attrition\", element=\"poly\")\n",
    "\n",
    "subplot(2,2,4)\n",
    "sns.histplot(data=df[df.Attrition == 'Yes'], x=\"MonthlyIncome\",  kde=True)\n",
    "\n",
    "plt.show()\n"
   ]
  },
  {
   "cell_type": "code",
   "execution_count": 460,
   "metadata": {},
   "outputs": [
    {
     "data": {
      "text/plain": [
       "<AxesSubplot:xlabel='OverTime', ylabel='Count'>"
      ]
     },
     "execution_count": 460,
     "metadata": {},
     "output_type": "execute_result"
    },
    {
     "data": {
      "image/png": "[encoded data removed]",
      "text/plain": [
       "<Figure size 504x504 with 4 Axes>"
      ]
     },
     "metadata": {
      "needs_background": "light"
     },
     "output_type": "display_data"
    }
   ],
   "source": [
    "plt.figure(figsize = (7,7))\n",
    "\n",
    "subplot(2,2,1)\n",
    "sns.scatterplot(data=df[df.Attrition == 'Yes'], x=\"MonthlyIncome\", y=\"Age\")\n",
    "\n",
    "subplot(2,2,2)\n",
    "sns.scatterplot(data=df[df.Attrition == 'No'], x=\"MonthlyIncome\", y=\"Age\")\n",
    "\n",
    "subplot(2,2,3)\n",
    "sns.histplot(data=df[df.Attrition == 'Yes'], x=\"OverTime\", hue='Attrition')\n",
    "\n",
    "subplot(2,2,4)\n",
    "sns.histplot(data=df[df.Attrition == 'No'], x=\"OverTime\", hue='Attrition')\n"
   ]
  },
  {
   "cell_type": "code",
   "execution_count": 461,
   "metadata": {},
   "outputs": [
    {
     "data": {
      "text/plain": [
       "<AxesSubplot:xlabel='Gender', ylabel='Count'>"
      ]
     },
     "execution_count": 461,
     "metadata": {},
     "output_type": "execute_result"
    },
    {
     "data": {
      "image/png": "[encoded data removed]",
      "text/plain": [
       "<Figure size 504x504 with 4 Axes>"
      ]
     },
     "metadata": {
      "needs_background": "light"
     },
     "output_type": "display_data"
    }
   ],
   "source": [
    "plt.figure(figsize = (7,7))\n",
    "\n",
    "subplot(2,2,1)\n",
    "sns.histplot(data=df[df.Attrition == 'Yes'], x=\"TotalWorkingYears\")\n",
    "\n",
    "subplot(2,2,2)\n",
    "sns.histplot(data=df[df.Attrition == 'No'], x=\"TotalWorkingYears\")\n",
    "\n",
    "subplot(2,2,3)\n",
    "sns.histplot(data=df[df.Attrition == 'Yes'], x=\"Gender\")\n",
    "\n",
    "subplot(2,2,4)\n",
    "sns.histplot(data=df[df.Attrition == 'No'], x=\"Gender\")"
   ]
  },
  {
   "cell_type": "code",
   "execution_count": 462,
   "metadata": {},
   "outputs": [
    {
     "data": {
      "image/png": "[encoded data removed]",
      "text/plain": [
       "<Figure size 432x288 with 1 Axes>"
      ]
     },
     "metadata": {
      "needs_background": "light"
     },
     "output_type": "display_data"
    }
   ],
   "source": [
    "df_plot_Gen = df.groupby(['Attrition', 'Gender']).size().reset_index().pivot(columns = 'Attrition', index = 'Gender', values = 0)\n",
    "df_plot_Gen.plot(kind = 'bar', stacked = True)\n",
    "plt.show()"
   ]
  },
  {
   "cell_type": "code",
   "execution_count": 463,
   "metadata": {},
   "outputs": [
    {
     "data": {
      "image/png": "[encoded data removed]",
      "text/plain": [
       "<Figure size 1440x864 with 4 Axes>"
      ]
     },
     "metadata": {
      "needs_background": "light"
     },
     "output_type": "display_data"
    }
   ],
   "source": [
    "df_plot_Dep = df.groupby(['Attrition', 'Department']).size().reset_index().pivot(columns = 'Attrition', index = 'Department', values = 0)\n",
    "df_plot_Ove = df.groupby(['Attrition', 'OverTime']).size().reset_index().pivot(columns = 'Attrition', index = 'OverTime', values = 0)\n",
    "df_plot_Inv = df.groupby(['Attrition', 'JobInvolvement']).size().reset_index().pivot(columns = 'Attrition', index = 'JobInvolvement', values = 0)\n",
    "df_plot_Per = df.groupby(['Attrition', 'PerformanceRating']).size().reset_index().pivot(columns = 'Attrition', index = 'PerformanceRating', values = 0)\n",
    "\n",
    "fig, ax = plt.subplots(2, 2, figsize = (20, 12))\n",
    "df_plot_Dep.plot(kind = 'bar', stacked = True, ax = ax[0,0])\n",
    "df_plot_Ove.plot(kind = 'bar', stacked = True, ax = ax[0,1])\n",
    "df_plot_Inv.plot(kind = 'bar', stacked = True, ax = ax[1,0])\n",
    "df_plot_Per.plot(kind = 'bar', stacked = True, ax = ax[1,1])\n",
    "plt.show()"
   ]
  },
  {
   "cell_type": "code",
   "execution_count": 464,
   "metadata": {},
   "outputs": [
    {
     "data": {
      "image/png": "[encoded data removed]",
      "text/plain": [
       "<Figure size 2160x2160 with 11 Axes>"
      ]
     },
     "metadata": {
      "needs_background": "light"
     },
     "output_type": "display_data"
    }
   ],
   "source": [
    "#Numerical Features\n",
    "num_features = ['Age','DistanceFromHome','HourlyRate','MonthlyIncome','MonthlyRate','PercentSalaryHike','TotalWorkingYears',\n",
    "                'YearsAtCompany','YearsInCurrentRole','YearsSinceLastPromotion','YearsWithCurrManager']\n",
    "\n",
    "plt.figure(figsize = (30,30))\n",
    "for i,feature in enumerate(num_features):\n",
    "    ax = plt.subplot(4,3,i+1)\n",
    "    sns.boxplot(y = df[feature], x = df['Attrition'])\n",
    "    ax.set_title(feature)"
   ]
  },
  {
   "cell_type": "markdown",
   "metadata": {},
   "source": [
    "# Start applying Modeling"
   ]
  },
  {
   "cell_type": "code",
   "execution_count": 465,
   "metadata": {},
   "outputs": [
    {
     "data": {
      "text/plain": [
       "Index(['Age', 'Attrition', 'BusinessTravel', 'Department', 'DistanceFromHome',\n",
       "       'Education', 'EducationField', 'EnvironmentSatisfaction', 'Gender',\n",
       "       'HourlyRate', 'JobInvolvement', 'JobLevel', 'JobRole',\n",
       "       'JobSatisfaction', 'MaritalStatus', 'MonthlyIncome', 'MonthlyRate',\n",
       "       'NumCompaniesWorked', 'OverTime', 'PercentSalaryHike',\n",
       "       'PerformanceRating', 'RelationshipSatisfaction', 'StockOptionLevel',\n",
       "       'TotalWorkingYears', 'TrainingTimesLastYear', 'WorkLifeBalance',\n",
       "       'YearsAtCompany', 'YearsInCurrentRole', 'YearsSinceLastPromotion',\n",
       "       'YearsWithCurrManager'],\n",
       "      dtype='object')"
      ]
     },
     "execution_count": 465,
     "metadata": {},
     "output_type": "execute_result"
    }
   ],
   "source": [
    "df.columns"
   ]
  },
  {
   "cell_type": "markdown",
   "metadata": {},
   "source": [
    "Plan of attack:\n",
    "\n",
    "* More plots\n",
    "* Split\n",
    "* Tree\n",
    "* Random\n",
    "* Adaboots: https://towardsdatascience.com/ensemble-methods-in-machine-learning-what-are-they-and-why-use-them-68ec3f9fef5f\n",
    "* Ensamble\n",
    "* \n"
   ]
  },
  {
   "cell_type": "code",
   "execution_count": 466,
   "metadata": {},
   "outputs": [],
   "source": [
    "## Experimental Split data on and on without errors in notebook\n",
    "\n",
    "# def splitDataset():\n",
    "#     X = df.copy()\n",
    "#     y = ''\n",
    "#     if 'Attrition' in X:\n",
    "#         y = df.Attrition\n",
    "#         X.pop('Attrition')\n",
    "#     return X, y\n",
    "\n",
    "# X, y = splitDataset()"
   ]
  },
  {
   "cell_type": "code",
   "execution_count": 467,
   "metadata": {},
   "outputs": [],
   "source": [
    "X = df.drop('Attrition', axis=1)\n",
    "y = df['Attrition']"
   ]
  },
  {
   "cell_type": "code",
   "execution_count": 468,
   "metadata": {},
   "outputs": [
    {
     "data": {
      "text/plain": [
       "array(['Yes', 'No'], dtype=object)"
      ]
     },
     "execution_count": 468,
     "metadata": {},
     "output_type": "execute_result"
    }
   ],
   "source": [
    "y.unique()"
   ]
  },
  {
   "cell_type": "code",
   "execution_count": 469,
   "metadata": {},
   "outputs": [
    {
     "name": "stdout",
     "output_type": "stream",
     "text": [
      "Column name: Age \t\t\t\ttype: int64\n",
      "Column name: Attrition \t\t\t\ttype: object\n",
      "Column name: BusinessTravel \t\t\t\ttype: object\n",
      "Column name: Department \t\t\t\ttype: object\n",
      "Column name: DistanceFromHome \t\t\t\ttype: int64\n",
      "Column name: Education \t\t\t\ttype: int64\n",
      "Column name: EducationField \t\t\t\ttype: object\n",
      "Column name: EnvironmentSatisfaction \t\t\t\ttype: int64\n",
      "Column name: Gender \t\t\t\ttype: object\n",
      "Column name: HourlyRate \t\t\t\ttype: int64\n",
      "Column name: JobInvolvement \t\t\t\ttype: int64\n",
      "Column name: JobLevel \t\t\t\ttype: int64\n",
      "Column name: JobRole \t\t\t\ttype: object\n",
      "Column name: JobSatisfaction \t\t\t\ttype: int64\n",
      "Column name: MaritalStatus \t\t\t\ttype: object\n",
      "Column name: MonthlyIncome \t\t\t\ttype: int64\n",
      "Column name: MonthlyRate \t\t\t\ttype: int64\n",
      "Column name: NumCompaniesWorked \t\t\t\ttype: int64\n",
      "Column name: OverTime \t\t\t\ttype: object\n",
      "Column name: PercentSalaryHike \t\t\t\ttype: int64\n",
      "Column name: PerformanceRating \t\t\t\ttype: int64\n",
      "Column name: RelationshipSatisfaction \t\t\t\ttype: int64\n",
      "Column name: StockOptionLevel \t\t\t\ttype: int64\n",
      "Column name: TotalWorkingYears \t\t\t\ttype: int64\n",
      "Column name: TrainingTimesLastYear \t\t\t\ttype: int64\n",
      "Column name: WorkLifeBalance \t\t\t\ttype: int64\n",
      "Column name: YearsAtCompany \t\t\t\ttype: int64\n",
      "Column name: YearsInCurrentRole \t\t\t\ttype: int64\n",
      "Column name: YearsSinceLastPromotion \t\t\t\ttype: int64\n",
      "Column name: YearsWithCurrManager \t\t\t\ttype: int64\n"
     ]
    }
   ],
   "source": [
    "for i in df:\n",
    "    print('Column name:', i, '\\t\\t\\t\\ttype:', df[i].dtypes)"
   ]
  },
  {
   "cell_type": "code",
   "execution_count": 470,
   "metadata": {},
   "outputs": [
    {
     "data": {
      "text/plain": [
       "Index(['Attrition', 'BusinessTravel', 'Department', 'EducationField', 'Gender',\n",
       "       'JobRole', 'MaritalStatus', 'OverTime'],\n",
       "      dtype='object')"
      ]
     },
     "execution_count": 470,
     "metadata": {},
     "output_type": "execute_result"
    }
   ],
   "source": [
    "# select categorical and numerical features\n",
    "df.select_dtypes(['object']).columns"
   ]
  },
  {
   "cell_type": "code",
   "execution_count": 471,
   "metadata": {},
   "outputs": [
    {
     "data": {
      "text/html": [
       "<div>\n",
       "<style scoped>\n",
       "    .dataframe tbody tr th:only-of-type {\n",
       "        vertical-align: middle;\n",
       "    }\n",
       "\n",
       "    .dataframe tbody tr th {\n",
       "        vertical-align: top;\n",
       "    }\n",
       "\n",
       "    .dataframe thead th {\n",
       "        text-align: right;\n",
       "    }\n",
       "</style>\n",
       "<table border=\"1\" class=\"dataframe\">\n",
       "  <thead>\n",
       "    <tr style=\"text-align: right;\">\n",
       "      <th></th>\n",
       "      <th>BusinessTravel_Non-Travel</th>\n",
       "      <th>BusinessTravel_Travel_Frequently</th>\n",
       "      <th>BusinessTravel_Travel_Rarely</th>\n",
       "    </tr>\n",
       "  </thead>\n",
       "  <tbody>\n",
       "    <tr>\n",
       "      <th>0</th>\n",
       "      <td>0</td>\n",
       "      <td>0</td>\n",
       "      <td>1</td>\n",
       "    </tr>\n",
       "    <tr>\n",
       "      <th>1</th>\n",
       "      <td>0</td>\n",
       "      <td>1</td>\n",
       "      <td>0</td>\n",
       "    </tr>\n",
       "    <tr>\n",
       "      <th>2</th>\n",
       "      <td>0</td>\n",
       "      <td>0</td>\n",
       "      <td>1</td>\n",
       "    </tr>\n",
       "    <tr>\n",
       "      <th>3</th>\n",
       "      <td>0</td>\n",
       "      <td>1</td>\n",
       "      <td>0</td>\n",
       "    </tr>\n",
       "    <tr>\n",
       "      <th>4</th>\n",
       "      <td>0</td>\n",
       "      <td>0</td>\n",
       "      <td>1</td>\n",
       "    </tr>\n",
       "  </tbody>\n",
       "</table>\n",
       "</div>"
      ],
      "text/plain": [
       "   BusinessTravel_Non-Travel  BusinessTravel_Travel_Frequently  \\\n",
       "0                          0                                 0   \n",
       "1                          0                                 1   \n",
       "2                          0                                 0   \n",
       "3                          0                                 1   \n",
       "4                          0                                 0   \n",
       "\n",
       "   BusinessTravel_Travel_Rarely  \n",
       "0                             1  \n",
       "1                             0  \n",
       "2                             1  \n",
       "3                             0  \n",
       "4                             1  "
      ]
     },
     "execution_count": 471,
     "metadata": {},
     "output_type": "execute_result"
    }
   ],
   "source": [
    "bustra = pd.get_dummies(X['BusinessTravel'], prefix='BusinessTravel')\n",
    "bustra.head()"
   ]
  },
  {
   "cell_type": "code",
   "execution_count": 472,
   "metadata": {},
   "outputs": [],
   "source": [
    "# gender = pd.get_dummies(df.Gender, prefix='Gender')\n",
    "# job_role = pd.get_dummies(df.JobRole, prefix='JobRole')\n",
    "# marital_status = pd.get_dummies(df.MaritalStatus, prefix='MaritalStatus') \n",
    "# over_time = pd.get_dummies(df.OverTime, prefix='OverTime')\n",
    "# buss_travel = pd.get_dummies(df.BusinessTravel, prefix='BusinessTravel')\n",
    "# dept = pd.get_dummies(df.Department, prefix='Department') \n",
    "# educ_field = pd.get_dummies(df.EducationField, prefix='EducationField')\n",
    "\n",
    "# df_onehot = pd.concat([gender, \n",
    "#                     job_role, \n",
    "#                     marital_status, \n",
    "#                     over_time, \n",
    "#                     buss_travel, \n",
    "#                     dept, \n",
    "#                     educ_field, \n",
    "#                     df.select_dtypes(['int64'])], axis=1)\n",
    "\n",
    "def onehot():\n",
    "    \"\"\"Encode categorical and combine categorical and numerical in one df\"\"\"\n",
    "    new_list = [df.select_dtypes(['int64'])]\n",
    "    for i in X.select_dtypes(['object']).columns:\n",
    "        temp = pd.get_dummies(X[i], prefix=i)\n",
    "        new_list.append(temp)\n",
    "    return pd.concat(new_list, axis=1)\n",
    "    \n",
    "df_ = onehot()\n"
   ]
  },
  {
   "cell_type": "code",
   "execution_count": 473,
   "metadata": {},
   "outputs": [
    {
     "data": {
      "text/plain": [
       "(1470, 50)"
      ]
     },
     "execution_count": 473,
     "metadata": {},
     "output_type": "execute_result"
    }
   ],
   "source": [
    "# ax = sns.heatmap(numeric.iloc[:,:12], annot=True, fmt=\"d\")\n",
    "df_.shape"
   ]
  },
  {
   "cell_type": "markdown",
   "metadata": {},
   "source": [
    "## LabelBinarizer\n",
    "https://scikit-learn.org/stable/modules/generated/sklearn.preprocessing.LabelBinarizer.html\n",
    "\n",
    "* Note: Dont need Binarizer with xgboost classifier. Turn the categorical target to True or False? "
   ]
  },
  {
   "cell_type": "code",
   "execution_count": 474,
   "metadata": {},
   "outputs": [],
   "source": [
    "from sklearn import preprocessing\n",
    "bin = preprocessing.LabelBinarizer()"
   ]
  },
  {
   "cell_type": "code",
   "execution_count": 475,
   "metadata": {},
   "outputs": [
    {
     "name": "stdout",
     "output_type": "stream",
     "text": [
      "[0 1] (1470, 1)\n"
     ]
    }
   ],
   "source": [
    "y = bin.fit_transform(y)\n",
    "print(np.unique(y), y.shape) # now is a numpy"
   ]
  },
  {
   "cell_type": "markdown",
   "metadata": {},
   "source": [
    "# Decision Tree"
   ]
  },
  {
   "cell_type": "code",
   "execution_count": 476,
   "metadata": {},
   "outputs": [],
   "source": [
    "from sklearn.model_selection import train_test_split\n",
    "from sklearn.tree import DecisionTreeClassifier\n",
    "from sklearn.metrics import accuracy_score, classification_report, confusion_matrix\n",
    "from sklearn.model_selection import cross_val_score, cross_val_predict\n",
    "X_train, X_test, y_train, y_test = train_test_split(df_, y)\n"
   ]
  },
  {
   "cell_type": "code",
   "execution_count": 477,
   "metadata": {},
   "outputs": [],
   "source": [
    "tree_cl1 = DecisionTreeClassifier(random_state=42) "
   ]
  },
  {
   "cell_type": "code",
   "execution_count": 478,
   "metadata": {},
   "outputs": [
    {
     "data": {
      "text/plain": [
       "DecisionTreeClassifier(random_state=42)"
      ]
     },
     "execution_count": 478,
     "metadata": {},
     "output_type": "execute_result"
    }
   ],
   "source": [
    "tree_cl1.fit(X_train, y_train)"
   ]
  },
  {
   "cell_type": "code",
   "execution_count": 479,
   "metadata": {},
   "outputs": [
    {
     "name": "stdout",
     "output_type": "stream",
     "text": [
      "accuracy_score 1.0 \n",
      " classification_report\n",
      "               precision    recall  f1-score   support\n",
      "\n",
      "           0       1.00      1.00      1.00       928\n",
      "           1       1.00      1.00      1.00       174\n",
      "\n",
      "    accuracy                           1.00      1102\n",
      "   macro avg       1.00      1.00      1.00      1102\n",
      "weighted avg       1.00      1.00      1.00      1102\n",
      " \n",
      " confusion matrix\n",
      " [[928   0]\n",
      " [  0 174]]\n",
      "accuracy_score:  0.7527173913043478 \n",
      " classification_report\n",
      "               precision    recall  f1-score   support\n",
      "\n",
      "           0       0.85      0.85      0.85       305\n",
      "           1       0.28      0.29      0.28        63\n",
      "\n",
      "    accuracy                           0.75       368\n",
      "   macro avg       0.57      0.57      0.57       368\n",
      "weighted avg       0.75      0.75      0.75       368\n",
      " \n",
      " confusion matrix\n",
      " [[259  46]\n",
      " [ 45  18]]\n"
     ]
    }
   ],
   "source": [
    "# test in sample\n",
    "# very high at first glance, do we have overfitting?\n",
    "print(\n",
    "    'accuracy_score', accuracy_score(y_train, tree_cl1.predict(X_train)),'\\n',\n",
    "    'classification_report\\n', classification_report(y_train, tree_cl1.predict(X_train)), '\\n',\n",
    "    'confusion matrix\\n', confusion_matrix(y_train, tree_cl1.predict(X_train))\n",
    ")\n",
    "# We have overfitting\n",
    "print(\n",
    "    'accuracy_score: ', accuracy_score(y_test, tree_cl1.predict(X_test)),'\\n',\n",
    "    'classification_report\\n', classification_report(y_test, tree_cl1.predict(X_test)), '\\n',\n",
    "    'confusion matrix\\n', confusion_matrix(y_test, tree_cl1.predict(X_test))\n",
    ")"
   ]
  },
  {
   "cell_type": "code",
   "execution_count": 480,
   "metadata": {},
   "outputs": [],
   "source": [
    "## agnosctic function for train and test scores for all model classifiers\n",
    "def scores(cl, X_train, y_train, X_test, y_test, train=True, cv=2): \n",
    "    \"\"\" render accuracy, classification report and confusion matrix scores for train and test\n",
    "        in order to compare them\n",
    "        cl: as classifier (Tree, RandomForest, etc)\n",
    "    \"\"\"\n",
    "    if train:\n",
    "        print('***************************** Training ****************************************************')\n",
    "        print(f'Accuracy:\\t\\t {accuracy_score(y_train, cl.predict(X_train))}')\n",
    "        print(f'Classification Report:\\n {classification_report(y_train, cl.predict(X_train))}')\n",
    "        print(f'Confusion Matrix:\\n {confusion_matrix(y_train, cl.predict(X_train))}')\n",
    "        print(\"******Cross Validation Number:\",cv)\n",
    "        cv_score = cross_val_score(cl, X_train, y_train.ravel(), cv=cv, scoring='accuracy')\n",
    "        print('Avg accuracy:', np.mean(cv_score))\n",
    "        print('Accuracy standard dev:', np.std(cv_score))\n",
    "    else:\n",
    "        print('***************************** Testing ****************************************************')\n",
    "        print(f'Accuracy:\\t\\t {accuracy_score(y_test, cl.predict(X_test))}')\n",
    "        print(f'Classification Report:\\n {classification_report(y_test, cl.predict(X_test))}')\n",
    "        print(f'Confusion Matrix:\\n {confusion_matrix(y_test, cl.predict(X_test))}')\n",
    "    \n"
   ]
  },
  {
   "cell_type": "code",
   "execution_count": null,
   "metadata": {},
   "outputs": [],
   "source": []
  },
  {
   "cell_type": "markdown",
   "metadata": {},
   "source": [
    "## Bagging\n",
    "Using Tree Classifier"
   ]
  },
  {
   "cell_type": "code",
   "execution_count": 481,
   "metadata": {},
   "outputs": [],
   "source": [
    "# pass tree classifier previously created\n",
    "from sklearn.ensemble import BaggingClassifier\n",
    "b_clf = BaggingClassifier(\n",
    "    base_estimator=tree_cl1, \n",
    "    n_estimators=100, \n",
    "    bootstrap=True, \n",
    "    n_jobs=-1, \n",
    "    random_state=42)"
   ]
  },
  {
   "cell_type": "code",
   "execution_count": 482,
   "metadata": {},
   "outputs": [
    {
     "data": {
      "text/plain": [
       "BaggingClassifier(base_estimator=DecisionTreeClassifier(random_state=42),\n",
       "                  n_estimators=100, n_jobs=-1, random_state=42)"
      ]
     },
     "execution_count": 482,
     "metadata": {},
     "output_type": "execute_result"
    }
   ],
   "source": [
    "\"\"\"need to use ravel: A column-vector y was passed when a 1d array was expected. Please change the shape of y to (n_samples, ), \n",
    "for example using ravel()\n",
    "\"\"\"\n",
    "b_clf.fit(X_train, y_train.ravel())"
   ]
  },
  {
   "cell_type": "code",
   "execution_count": 483,
   "metadata": {},
   "outputs": [
    {
     "name": "stdout",
     "output_type": "stream",
     "text": [
      "***************************** Training ****************************************************\n",
      "Accuracy:\t\t 1.0\n",
      "Classification Report:\n",
      "               precision    recall  f1-score   support\n",
      "\n",
      "           0       1.00      1.00      1.00       928\n",
      "           1       1.00      1.00      1.00       174\n",
      "\n",
      "    accuracy                           1.00      1102\n",
      "   macro avg       1.00      1.00      1.00      1102\n",
      "weighted avg       1.00      1.00      1.00      1102\n",
      "\n",
      "Confusion Matrix:\n",
      " [[928   0]\n",
      " [  0 174]]\n",
      "******Cross Validation Number: 10\n",
      "Avg accuracy: 0.8557166257166257\n",
      "Accuracy standard dev: 0.011087773922453421\n",
      "***************************** Testing ****************************************************\n",
      "Accuracy:\t\t 0.8505434782608695\n",
      "Classification Report:\n",
      "               precision    recall  f1-score   support\n",
      "\n",
      "           0       0.85      0.99      0.92       305\n",
      "           1       0.79      0.17      0.29        63\n",
      "\n",
      "    accuracy                           0.85       368\n",
      "   macro avg       0.82      0.58      0.60       368\n",
      "weighted avg       0.84      0.85      0.81       368\n",
      "\n",
      "Confusion Matrix:\n",
      " [[302   3]\n",
      " [ 52  11]]\n"
     ]
    }
   ],
   "source": [
    "scores(b_clf, X_train, y_train, X_test, y_test, train=True, cv=10)\n",
    "scores(b_clf, X_train, y_train, X_test, y_test, train=False)"
   ]
  },
  {
   "cell_type": "markdown",
   "metadata": {},
   "source": [
    "## RandomForest Classifier"
   ]
  },
  {
   "cell_type": "code",
   "execution_count": 484,
   "metadata": {},
   "outputs": [],
   "source": [
    "from sklearn.ensemble import RandomForestClassifier"
   ]
  },
  {
   "cell_type": "code",
   "execution_count": 485,
   "metadata": {},
   "outputs": [
    {
     "data": {
      "text/plain": [
       "RandomForestClassifier()"
      ]
     },
     "execution_count": 485,
     "metadata": {},
     "output_type": "execute_result"
    }
   ],
   "source": [
    "rf_clf = RandomForestClassifier()\n",
    "rf_clf.fit(X_train, y_train.ravel())"
   ]
  },
  {
   "cell_type": "code",
   "execution_count": 486,
   "metadata": {},
   "outputs": [
    {
     "name": "stdout",
     "output_type": "stream",
     "text": [
      "***************************** Training ****************************************************\n",
      "Accuracy:\t\t 1.0\n",
      "Classification Report:\n",
      "               precision    recall  f1-score   support\n",
      "\n",
      "           0       1.00      1.00      1.00       928\n",
      "           1       1.00      1.00      1.00       174\n",
      "\n",
      "    accuracy                           1.00      1102\n",
      "   macro avg       1.00      1.00      1.00      1102\n",
      "weighted avg       1.00      1.00      1.00      1102\n",
      "\n",
      "Confusion Matrix:\n",
      " [[928   0]\n",
      " [  0 174]]\n",
      "******Cross Validation Number: 10\n",
      "Avg accuracy: 0.861195741195741\n",
      "Accuracy standard dev: 0.01645012840864104\n",
      "***************************** Testing ****************************************************\n",
      "Accuracy:\t\t 0.8532608695652174\n",
      "Classification Report:\n",
      "               precision    recall  f1-score   support\n",
      "\n",
      "           0       0.85      1.00      0.92       305\n",
      "           1       0.91      0.16      0.27        63\n",
      "\n",
      "    accuracy                           0.85       368\n",
      "   macro avg       0.88      0.58      0.59       368\n",
      "weighted avg       0.86      0.85      0.81       368\n",
      "\n",
      "Confusion Matrix:\n",
      " [[304   1]\n",
      " [ 53  10]]\n"
     ]
    }
   ],
   "source": [
    "scores(rf_clf, X_train, y_train, X_test, y_test, train=True, cv=10)\n",
    "scores(rf_clf, X_train, y_train, X_test, y_test, train=False)"
   ]
  },
  {
   "cell_type": "code",
   "execution_count": 487,
   "metadata": {},
   "outputs": [
    {
     "data": {
      "text/plain": [
       "array([0.06325614, 0.04404029, 0.01990092, 0.03426594, 0.04855878,\n",
       "       0.02143279, 0.0219733 , 0.02645564, 0.07325512, 0.05108194,\n",
       "       0.03875219, 0.03690757, 0.00588764, 0.0219144 , 0.02846387,\n",
       "       0.04800632, 0.02562289, 0.02390509, 0.04435645, 0.02875288,\n",
       "       0.02415864, 0.02745062, 0.00384445, 0.01659852, 0.00824321,\n",
       "       0.00288701, 0.00846606, 0.01068293, 0.00198373, 0.00788117,\n",
       "       0.01002752, 0.0063474 , 0.00223524, 0.01139161, 0.00687965,\n",
       "       0.0065549 , 0.00197736, 0.00302698, 0.00777596, 0.00210354,\n",
       "       0.00280694, 0.00148755, 0.00742661, 0.00742892, 0.0081649 ,\n",
       "       0.00583606, 0.00908667, 0.01707112, 0.03426678, 0.02911781])"
      ]
     },
     "execution_count": 487,
     "metadata": {},
     "output_type": "execute_result"
    }
   ],
   "source": [
    "rf_clf.feature_importances_\n"
   ]
  },
  {
   "cell_type": "code",
   "execution_count": 488,
   "metadata": {},
   "outputs": [
    {
     "data": {
      "text/plain": [
       "50"
      ]
     },
     "execution_count": 488,
     "metadata": {},
     "output_type": "execute_result"
    }
   ],
   "source": [
    "pd.Series(rf_clf.feature_importances_, index=X_train.columns).sort_values(ascending=False).count()"
   ]
  },
  {
   "cell_type": "code",
   "execution_count": 489,
   "metadata": {},
   "outputs": [
    {
     "data": {
      "text/plain": [
       "<AxesSubplot:>"
      ]
     },
     "execution_count": 489,
     "metadata": {},
     "output_type": "execute_result"
    },
    {
     "data": {
      "image/png": "[encoded data removed]",
      "text/plain": [
       "<Figure size 1008x576 with 1 Axes>"
      ]
     },
     "metadata": {
      "needs_background": "light"
     },
     "output_type": "display_data"
    }
   ],
   "source": [
    "pd.Series(\n",
    "    rf_clf.feature_importances_, \n",
    "    index=X_train.columns).sort_values(ascending=False).plot(kind='bar', figsize=(14,8))"
   ]
  },
  {
   "cell_type": "code",
   "execution_count": 490,
   "metadata": {},
   "outputs": [
    {
     "data": {
      "image/png": "[encoded data removed]",
      "text/plain": [
       "<Figure size 432x288 with 1 Axes>"
      ]
     },
     "metadata": {
      "needs_background": "light"
     },
     "output_type": "display_data"
    }
   ],
   "source": [
    "tmp = pd.Series(rf_clf.feature_importances_, index=X_train.columns).sort_values(ascending=False)\n",
    "\n",
    "thedict = {}\n",
    "for i, j in zip(tmp, tmp.index):\n",
    "    if '_' in j:\n",
    "        key = j.split('_')[0]\n",
    "        if key in thedict.keys():\n",
    "            thedict[f'{key}'] += i \n",
    "        else:\n",
    "            thedict[f'{key}'] = i\n",
    "    else:\n",
    "        thedict[f'{j}'] = i\n",
    "\n",
    "thedict = dict(sorted(thedict.items(), key=lambda item: item[1], reverse=True))\n",
    "keys = list(thedict.keys())\n",
    "vals = list(thedict.values())\n",
    "\n",
    "plt.figsize=(14,8)\n",
    "ax= sns.barplot(x=keys, y=vals)\n",
    "ax.set_xticklabels(ax.get_xticklabels(),rotation = 90)\n",
    "plt.show()\n"
   ]
  },
  {
   "cell_type": "markdown",
   "metadata": {},
   "source": [
    "## AdaBoost"
   ]
  },
  {
   "cell_type": "code",
   "execution_count": 491,
   "metadata": {},
   "outputs": [],
   "source": [
    "from sklearn.ensemble import AdaBoostClassifier"
   ]
  },
  {
   "cell_type": "code",
   "execution_count": 492,
   "metadata": {},
   "outputs": [
    {
     "data": {
      "text/plain": [
       "AdaBoostClassifier()"
      ]
     },
     "execution_count": 492,
     "metadata": {},
     "output_type": "execute_result"
    }
   ],
   "source": [
    "a_clf = AdaBoostClassifier()\n",
    "a_clf.fit(X_train, y_train.ravel())"
   ]
  },
  {
   "cell_type": "code",
   "execution_count": 493,
   "metadata": {},
   "outputs": [
    {
     "name": "stdout",
     "output_type": "stream",
     "text": [
      "***************************** Training ****************************************************\n",
      "Accuracy:\t\t 0.9038112522686026\n",
      "Classification Report:\n",
      "               precision    recall  f1-score   support\n",
      "\n",
      "           0       0.91      0.98      0.95       928\n",
      "           1       0.83      0.49      0.62       174\n",
      "\n",
      "    accuracy                           0.90      1102\n",
      "   macro avg       0.87      0.74      0.78      1102\n",
      "weighted avg       0.90      0.90      0.89      1102\n",
      "\n",
      "Confusion Matrix:\n",
      " [[911  17]\n",
      " [ 89  85]]\n",
      "******Cross Validation Number: 2\n",
      "Avg accuracy: 0.8511796733212341\n",
      "Accuracy standard dev: 0.019963702359346636\n",
      "***************************** Testing ****************************************************\n",
      "Accuracy:\t\t 0.875\n",
      "Classification Report:\n",
      "               precision    recall  f1-score   support\n",
      "\n",
      "           0       0.88      0.98      0.93       305\n",
      "           1       0.77      0.38      0.51        63\n",
      "\n",
      "    accuracy                           0.88       368\n",
      "   macro avg       0.83      0.68      0.72       368\n",
      "weighted avg       0.87      0.88      0.86       368\n",
      "\n",
      "Confusion Matrix:\n",
      " [[298   7]\n",
      " [ 39  24]]\n"
     ]
    }
   ],
   "source": [
    "scores(a_clf, X_train, y_train, X_test, y_test, train=True)\n",
    "scores(a_clf, X_train, y_train, X_test, y_test, train=False)"
   ]
  },
  {
   "cell_type": "code",
   "execution_count": 549,
   "metadata": {},
   "outputs": [
    {
     "data": {
      "text/plain": [
       "array([0.08, 0.02, 0.  , 0.02, 0.  , 0.04, 0.02, 0.04, 0.18, 0.  , 0.04,\n",
       "       0.06, 0.  , 0.02, 0.04, 0.02, 0.02, 0.02, 0.04, 0.04, 0.04, 0.06,\n",
       "       0.02, 0.02, 0.  , 0.  , 0.02, 0.  , 0.  , 0.  , 0.02, 0.  , 0.  ,\n",
       "       0.02, 0.  , 0.  , 0.  , 0.  , 0.02, 0.  , 0.  , 0.  , 0.  , 0.02,\n",
       "       0.  , 0.02, 0.  , 0.  , 0.  , 0.04])"
      ]
     },
     "execution_count": 549,
     "metadata": {},
     "output_type": "execute_result"
    }
   ],
   "source": [
    "# a_clf.feature_importances_"
   ]
  },
  {
   "cell_type": "code",
   "execution_count": 606,
   "metadata": {},
   "outputs": [
    {
     "data": {
      "text/plain": [
       "AdaBoostClassifier()"
      ]
     },
     "execution_count": 606,
     "metadata": {},
     "output_type": "execute_result"
    }
   ],
   "source": [
    "# n_estimators=200\n",
    "a_clf2 = AdaBoostClassifier()\n",
    "a_clf2.fit(X_train, y_train.ravel())"
   ]
  },
  {
   "cell_type": "code",
   "execution_count": 608,
   "metadata": {},
   "outputs": [
    {
     "name": "stdout",
     "output_type": "stream",
     "text": [
      "***************************** Training ****************************************************\n",
      "Accuracy:\t\t 0.9038112522686026\n",
      "Classification Report:\n",
      "               precision    recall  f1-score   support\n",
      "\n",
      "           0       0.91      0.98      0.95       928\n",
      "           1       0.83      0.49      0.62       174\n",
      "\n",
      "    accuracy                           0.90      1102\n",
      "   macro avg       0.87      0.74      0.78      1102\n",
      "weighted avg       0.90      0.90      0.89      1102\n",
      "\n",
      "Confusion Matrix:\n",
      " [[911  17]\n",
      " [ 89  85]]\n",
      "******Cross Validation Number: 10\n",
      "Avg accuracy: 0.8784193284193282\n",
      "Accuracy standard dev: 0.02470379229026582\n",
      "***************************** Testing ****************************************************\n",
      "Accuracy:\t\t 0.875\n",
      "Classification Report:\n",
      "               precision    recall  f1-score   support\n",
      "\n",
      "           0       0.88      0.98      0.93       305\n",
      "           1       0.77      0.38      0.51        63\n",
      "\n",
      "    accuracy                           0.88       368\n",
      "   macro avg       0.83      0.68      0.72       368\n",
      "weighted avg       0.87      0.88      0.86       368\n",
      "\n",
      "Confusion Matrix:\n",
      " [[298   7]\n",
      " [ 39  24]]\n"
     ]
    }
   ],
   "source": [
    "scores(a_clf2, X_train, y_train, X_test, y_test, train=True, cv=10)\n",
    "scores(a_clf2, X_train, y_train, X_test, y_test, train=False, cv=10)"
   ]
  },
  {
   "cell_type": "code",
   "execution_count": 666,
   "metadata": {},
   "outputs": [
    {
     "data": {
      "image/png": "[encoded data removed]",
      "text/plain": [
       "<Figure size 432x288 with 1 Axes>"
      ]
     },
     "metadata": {
      "needs_background": "light"
     },
     "output_type": "display_data"
    }
   ],
   "source": [
    "tmp = pd.Series(a_clf2.feature_importances_, index=X_train.columns).sort_values(ascending=False)\n",
    "\n",
    "thedict = {}\n",
    "for i, j in zip(tmp, tmp.index):\n",
    "    if '_' in j:\n",
    "        key = j.split('_')[0]\n",
    "        if key in thedict.keys():\n",
    "            thedict[f'{key}'] += i \n",
    "        else:\n",
    "            thedict[f'{key}'] = i\n",
    "    else:\n",
    "        thedict[f'{j}'] = i\n",
    "\n",
    "thedict = dict(sorted(thedict.items(), key=lambda item: item[1], reverse=True))\n",
    "keys = list(thedict.keys())\n",
    "vals = list(thedict.values())\n",
    "\n",
    "plt.figsize=(14,8)\n",
    "ax= sns.barplot(x=keys, y=vals)\n",
    "ax.set_xticklabels(ax.get_xticklabels(),rotation = 90)\n",
    "plt.show()"
   ]
  },
  {
   "cell_type": "markdown",
   "metadata": {},
   "source": [
    "## Ada and RandomForest"
   ]
  },
  {
   "cell_type": "code",
   "execution_count": 494,
   "metadata": {},
   "outputs": [
    {
     "data": {
      "text/plain": [
       "AdaBoostClassifier(base_estimator=RandomForestClassifier())"
      ]
     },
     "execution_count": 494,
     "metadata": {},
     "output_type": "execute_result"
    }
   ],
   "source": [
    "ada_clf2 = AdaBoostClassifier(RandomForestClassifier())\n",
    "ada_clf2.fit(X_train, y_train.ravel())"
   ]
  },
  {
   "cell_type": "code",
   "execution_count": 495,
   "metadata": {},
   "outputs": [
    {
     "name": "stdout",
     "output_type": "stream",
     "text": [
      "***************************** Training ****************************************************\n",
      "Accuracy:\t\t 1.0\n",
      "Classification Report:\n",
      "               precision    recall  f1-score   support\n",
      "\n",
      "           0       1.00      1.00      1.00       928\n",
      "           1       1.00      1.00      1.00       174\n",
      "\n",
      "    accuracy                           1.00      1102\n",
      "   macro avg       1.00      1.00      1.00      1102\n",
      "weighted avg       1.00      1.00      1.00      1102\n",
      "\n",
      "Confusion Matrix:\n",
      " [[928   0]\n",
      " [  0 174]]\n",
      "******Cross Validation Number: 2\n",
      "Avg accuracy: 0.8548094373865699\n",
      "Accuracy standard dev: 0.003629764065335772\n",
      "***************************** Testing ****************************************************\n",
      "Accuracy:\t\t 0.8505434782608695\n",
      "Classification Report:\n",
      "               precision    recall  f1-score   support\n",
      "\n",
      "           0       0.85      1.00      0.92       305\n",
      "           1       1.00      0.13      0.23        63\n",
      "\n",
      "    accuracy                           0.85       368\n",
      "   macro avg       0.92      0.56      0.57       368\n",
      "weighted avg       0.87      0.85      0.80       368\n",
      "\n",
      "Confusion Matrix:\n",
      " [[305   0]\n",
      " [ 55   8]]\n"
     ]
    }
   ],
   "source": [
    "scores(ada_clf2, X_train, y_train, X_test, y_test, train=True)\n",
    "scores(ada_clf2, X_train, y_train, X_test, y_test, train=False)"
   ]
  },
  {
   "cell_type": "markdown",
   "metadata": {},
   "source": [
    "***\n",
    "\n",
    "## Gradient Boosting Classifier"
   ]
  },
  {
   "cell_type": "code",
   "execution_count": 496,
   "metadata": {},
   "outputs": [],
   "source": [
    "from sklearn.ensemble import GradientBoostingClassifier"
   ]
  },
  {
   "cell_type": "code",
   "execution_count": 497,
   "metadata": {},
   "outputs": [
    {
     "data": {
      "text/plain": [
       "GradientBoostingClassifier()"
      ]
     },
     "execution_count": 497,
     "metadata": {},
     "output_type": "execute_result"
    }
   ],
   "source": [
    "g_clf = GradientBoostingClassifier()\n",
    "g_clf.fit(X_train, y_train.ravel())"
   ]
  },
  {
   "cell_type": "code",
   "execution_count": 498,
   "metadata": {},
   "outputs": [
    {
     "name": "stdout",
     "output_type": "stream",
     "text": [
      "***************************** Training ****************************************************\n",
      "Accuracy:\t\t 0.9546279491833031\n",
      "Classification Report:\n",
      "               precision    recall  f1-score   support\n",
      "\n",
      "           0       0.95      1.00      0.97       928\n",
      "           1       1.00      0.71      0.83       174\n",
      "\n",
      "    accuracy                           0.95      1102\n",
      "   macro avg       0.97      0.86      0.90      1102\n",
      "weighted avg       0.96      0.95      0.95      1102\n",
      "\n",
      "Confusion Matrix:\n",
      " [[928   0]\n",
      " [ 50 124]]\n",
      "******Cross Validation Number: 2\n",
      "Avg accuracy: 0.8620689655172413\n",
      "Accuracy standard dev: 0.0\n",
      "***************************** Testing ****************************************************\n",
      "Accuracy:\t\t 0.8641304347826086\n",
      "Classification Report:\n",
      "               precision    recall  f1-score   support\n",
      "\n",
      "           0       0.87      0.99      0.92       305\n",
      "           1       0.84      0.25      0.39        63\n",
      "\n",
      "    accuracy                           0.86       368\n",
      "   macro avg       0.85      0.62      0.66       368\n",
      "weighted avg       0.86      0.86      0.83       368\n",
      "\n",
      "Confusion Matrix:\n",
      " [[302   3]\n",
      " [ 47  16]]\n"
     ]
    }
   ],
   "source": [
    "scores(g_clf, X_train, y_train, X_test, y_test, train=True)\n",
    "scores(g_clf, X_train, y_train, X_test, y_test, train=False)"
   ]
  },
  {
   "cell_type": "markdown",
   "metadata": {},
   "source": [
    "## XGBoost"
   ]
  },
  {
   "cell_type": "code",
   "execution_count": 499,
   "metadata": {},
   "outputs": [],
   "source": [
    "import xgboost as xgb"
   ]
  },
  {
   "cell_type": "code",
   "execution_count": 500,
   "metadata": {},
   "outputs": [
    {
     "data": {
      "text/plain": [
       "numpy.ndarray"
      ]
     },
     "execution_count": 500,
     "metadata": {},
     "output_type": "execute_result"
    }
   ],
   "source": [
    "type(y_train)"
   ]
  },
  {
   "cell_type": "code",
   "execution_count": 501,
   "metadata": {},
   "outputs": [
    {
     "data": {
      "text/plain": [
       "XGBClassifier(base_score=0.5, booster='gbtree', colsample_bylevel=1,\n",
       "              colsample_bynode=1, colsample_bytree=1, enable_categorical=False,\n",
       "              gamma=0, gpu_id=-1, importance_type=None,\n",
       "              interaction_constraints='', learning_rate=0.300000012,\n",
       "              max_delta_step=0, max_depth=6, min_child_weight=1, missing=nan,\n",
       "              monotone_constraints='()', n_estimators=100, n_jobs=12,\n",
       "              num_parallel_tree=1, predictor='auto', random_state=0,\n",
       "              reg_alpha=0, reg_lambda=1, scale_pos_weight=1, subsample=1,\n",
       "              tree_method='exact', use_label_encoder=False,\n",
       "              validate_parameters=1, verbosity=None)"
      ]
     },
     "execution_count": 501,
     "metadata": {},
     "output_type": "execute_result"
    }
   ],
   "source": [
    "x_clf = xgb.XGBClassifier(use_label_encoder=False)\n",
    "x_clf.fit(X_train, y_train.ravel())"
   ]
  },
  {
   "cell_type": "code",
   "execution_count": 502,
   "metadata": {},
   "outputs": [
    {
     "name": "stdout",
     "output_type": "stream",
     "text": [
      "***************************** Training ****************************************************\n",
      "Accuracy:\t\t 1.0\n",
      "Classification Report:\n",
      "               precision    recall  f1-score   support\n",
      "\n",
      "           0       1.00      1.00      1.00       928\n",
      "           1       1.00      1.00      1.00       174\n",
      "\n",
      "    accuracy                           1.00      1102\n",
      "   macro avg       1.00      1.00      1.00      1102\n",
      "weighted avg       1.00      1.00      1.00      1102\n",
      "\n",
      "Confusion Matrix:\n",
      " [[928   0]\n",
      " [  0 174]]\n",
      "******Cross Validation Number: 2\n",
      "Avg accuracy: 0.8647912885662432\n",
      "Accuracy standard dev: 0.000907441016333943\n",
      "***************************** Testing ****************************************************\n",
      "Accuracy:\t\t 0.8614130434782609\n",
      "Classification Report:\n",
      "               precision    recall  f1-score   support\n",
      "\n",
      "           0       0.87      0.98      0.92       305\n",
      "           1       0.73      0.30      0.43        63\n",
      "\n",
      "    accuracy                           0.86       368\n",
      "   macro avg       0.80      0.64      0.67       368\n",
      "weighted avg       0.85      0.86      0.84       368\n",
      "\n",
      "Confusion Matrix:\n",
      " [[298   7]\n",
      " [ 44  19]]\n"
     ]
    }
   ],
   "source": [
    "scores(x_clf, X_train, y_train, X_test, y_test, train=True)\n",
    "scores(x_clf, X_train, y_train, X_test, y_test, train=False)"
   ]
  },
  {
   "cell_type": "code",
   "execution_count": 503,
   "metadata": {},
   "outputs": [],
   "source": [
    "from sklearn import preprocessing\n",
    "le = preprocessing.LabelBinarizer()"
   ]
  },
  {
   "cell_type": "code",
   "execution_count": 504,
   "metadata": {},
   "outputs": [
    {
     "data": {
      "text/plain": [
       "No     84.0\n",
       "Yes    16.0\n",
       "Name: Attrition, dtype: float64"
      ]
     },
     "execution_count": 504,
     "metadata": {},
     "output_type": "execute_result"
    }
   ],
   "source": [
    "## check unbalance df\n",
    "\n",
    "imbalancedf = round((df.Attrition.value_counts() / df.Attrition.count()) * 100)\n",
    "imbalancedf"
   ]
  },
  {
   "cell_type": "markdown",
   "metadata": {},
   "source": [
    "## Model Stacking"
   ]
  },
  {
   "cell_type": "markdown",
   "metadata": {},
   "source": [
    "### 1. Decision Tree"
   ]
  },
  {
   "cell_type": "code",
   "execution_count": 505,
   "metadata": {},
   "outputs": [
    {
     "data": {
      "text/plain": [
       "DecisionTreeClassifier()"
      ]
     },
     "execution_count": 505,
     "metadata": {},
     "output_type": "execute_result"
    }
   ],
   "source": [
    "tree_clf3 = DecisionTreeClassifier()\n",
    "tree_clf3.fit(X_train, y_train)"
   ]
  },
  {
   "cell_type": "code",
   "execution_count": 506,
   "metadata": {},
   "outputs": [
    {
     "name": "stdout",
     "output_type": "stream",
     "text": [
      "***************************** Training ****************************************************\n",
      "Accuracy:\t\t 1.0\n",
      "Classification Report:\n",
      "               precision    recall  f1-score   support\n",
      "\n",
      "           0       1.00      1.00      1.00       928\n",
      "           1       1.00      1.00      1.00       174\n",
      "\n",
      "    accuracy                           1.00      1102\n",
      "   macro avg       1.00      1.00      1.00      1102\n",
      "weighted avg       1.00      1.00      1.00      1102\n",
      "\n",
      "Confusion Matrix:\n",
      " [[928   0]\n",
      " [  0 174]]\n",
      "******Cross Validation Number: 2\n",
      "Avg accuracy: 0.7903811252268602\n",
      "Accuracy standard dev: 0.02087114337568058\n",
      "***************************** Testing ****************************************************\n",
      "Accuracy:\t\t 0.7527173913043478\n",
      "Classification Report:\n",
      "               precision    recall  f1-score   support\n",
      "\n",
      "           0       0.85      0.86      0.85       305\n",
      "           1       0.26      0.24      0.25        63\n",
      "\n",
      "    accuracy                           0.75       368\n",
      "   macro avg       0.55      0.55      0.55       368\n",
      "weighted avg       0.74      0.75      0.75       368\n",
      "\n",
      "Confusion Matrix:\n",
      " [[262  43]\n",
      " [ 48  15]]\n"
     ]
    }
   ],
   "source": [
    "scores(tree_clf3, X_train, y_train, X_test, y_test, train=True)\n",
    "scores(tree_clf3, X_train, y_train, X_test, y_test, train=False)"
   ]
  },
  {
   "cell_type": "markdown",
   "metadata": {},
   "source": [
    "### 2. Random Forest"
   ]
  },
  {
   "cell_type": "code",
   "execution_count": 507,
   "metadata": {},
   "outputs": [],
   "source": [
    "from sklearn.ensemble import RandomForestClassifier"
   ]
  },
  {
   "cell_type": "code",
   "execution_count": 508,
   "metadata": {},
   "outputs": [
    {
     "data": {
      "text/plain": [
       "RandomForestClassifier()"
      ]
     },
     "execution_count": 508,
     "metadata": {},
     "output_type": "execute_result"
    }
   ],
   "source": [
    "rf_clf3 = RandomForestClassifier()\n",
    "rf_clf3.fit(X_train, y_train.ravel())"
   ]
  },
  {
   "cell_type": "code",
   "execution_count": 509,
   "metadata": {},
   "outputs": [
    {
     "name": "stdout",
     "output_type": "stream",
     "text": [
      "***************************** Training ****************************************************\n",
      "Accuracy:\t\t 1.0\n",
      "Classification Report:\n",
      "               precision    recall  f1-score   support\n",
      "\n",
      "           0       1.00      1.00      1.00       928\n",
      "           1       1.00      1.00      1.00       174\n",
      "\n",
      "    accuracy                           1.00      1102\n",
      "   macro avg       1.00      1.00      1.00      1102\n",
      "weighted avg       1.00      1.00      1.00      1102\n",
      "\n",
      "Confusion Matrix:\n",
      " [[928   0]\n",
      " [  0 174]]\n",
      "******Cross Validation Number: 2\n",
      "Avg accuracy: 0.8557168784029039\n",
      "Accuracy standard dev: 0.002722323049001829\n",
      "***************************** Testing ****************************************************\n",
      "Accuracy:\t\t 0.8505434782608695\n",
      "Classification Report:\n",
      "               precision    recall  f1-score   support\n",
      "\n",
      "           0       0.85      0.99      0.92       305\n",
      "           1       0.83      0.16      0.27        63\n",
      "\n",
      "    accuracy                           0.85       368\n",
      "   macro avg       0.84      0.58      0.59       368\n",
      "weighted avg       0.85      0.85      0.81       368\n",
      "\n",
      "Confusion Matrix:\n",
      " [[303   2]\n",
      " [ 53  10]]\n"
     ]
    }
   ],
   "source": [
    "scores(rf_clf3, X_train, y_train, X_test, y_test, train=True)\n",
    "scores(rf_clf3, X_train, y_train, X_test, y_test, train=False)"
   ]
  },
  {
   "cell_type": "code",
   "execution_count": 510,
   "metadata": {},
   "outputs": [],
   "source": [
    "ensembles = pd.DataFrame()\n",
    "ensembles['tree_clf3'] = pd.DataFrame(tree_clf3.predict_proba(X_train))[1]\n",
    "ensembles['rf_clf3'] = pd.DataFrame(rf_clf3.predict_proba(X_train))[1]\n",
    "ensembles = pd.concat([ensembles, pd.DataFrame(y_train).reset_index(drop=True)], axis=1)\n",
    "ensembles.rename({0: 'ind'}, axis=1, inplace=True)"
   ]
  },
  {
   "cell_type": "code",
   "execution_count": 511,
   "metadata": {},
   "outputs": [
    {
     "data": {
      "text/html": [
       "<div>\n",
       "<style scoped>\n",
       "    .dataframe tbody tr th:only-of-type {\n",
       "        vertical-align: middle;\n",
       "    }\n",
       "\n",
       "    .dataframe tbody tr th {\n",
       "        vertical-align: top;\n",
       "    }\n",
       "\n",
       "    .dataframe thead th {\n",
       "        text-align: right;\n",
       "    }\n",
       "</style>\n",
       "<table border=\"1\" class=\"dataframe\">\n",
       "  <thead>\n",
       "    <tr style=\"text-align: right;\">\n",
       "      <th></th>\n",
       "      <th>tree_clf3</th>\n",
       "      <th>rf_clf3</th>\n",
       "      <th>ind</th>\n",
       "    </tr>\n",
       "  </thead>\n",
       "  <tbody>\n",
       "    <tr>\n",
       "      <th>0</th>\n",
       "      <td>0.0</td>\n",
       "      <td>0.01</td>\n",
       "      <td>0</td>\n",
       "    </tr>\n",
       "    <tr>\n",
       "      <th>1</th>\n",
       "      <td>0.0</td>\n",
       "      <td>0.12</td>\n",
       "      <td>0</td>\n",
       "    </tr>\n",
       "    <tr>\n",
       "      <th>2</th>\n",
       "      <td>1.0</td>\n",
       "      <td>0.82</td>\n",
       "      <td>1</td>\n",
       "    </tr>\n",
       "    <tr>\n",
       "      <th>3</th>\n",
       "      <td>0.0</td>\n",
       "      <td>0.02</td>\n",
       "      <td>0</td>\n",
       "    </tr>\n",
       "    <tr>\n",
       "      <th>4</th>\n",
       "      <td>0.0</td>\n",
       "      <td>0.00</td>\n",
       "      <td>0</td>\n",
       "    </tr>\n",
       "  </tbody>\n",
       "</table>\n",
       "</div>"
      ],
      "text/plain": [
       "   tree_clf3  rf_clf3  ind\n",
       "0        0.0     0.01    0\n",
       "1        0.0     0.12    0\n",
       "2        1.0     0.82    1\n",
       "3        0.0     0.02    0\n",
       "4        0.0     0.00    0"
      ]
     },
     "execution_count": 511,
     "metadata": {},
     "output_type": "execute_result"
    }
   ],
   "source": [
    "ensembles.head()"
   ]
  },
  {
   "cell_type": "markdown",
   "metadata": {},
   "source": [
    "## Meta Classifier\n",
    "Ensemble different classifiers (LogisticRegression)"
   ]
  },
  {
   "cell_type": "code",
   "execution_count": 653,
   "metadata": {},
   "outputs": [],
   "source": [
    "from sklearn.linear_model import LogisticRegression"
   ]
  },
  {
   "cell_type": "code",
   "execution_count": 654,
   "metadata": {},
   "outputs": [],
   "source": [
    "lr_clf = LogisticRegression(fit_intercept=False)"
   ]
  },
  {
   "cell_type": "code",
   "execution_count": 655,
   "metadata": {},
   "outputs": [
    {
     "data": {
      "text/plain": [
       "LogisticRegression(fit_intercept=False)"
      ]
     },
     "execution_count": 655,
     "metadata": {},
     "output_type": "execute_result"
    }
   ],
   "source": [
    "lr_clf.fit(ensembles[['tree_clf3', 'rf_clf3']], ensembles['ind'])"
   ]
  },
  {
   "cell_type": "code",
   "execution_count": 656,
   "metadata": {},
   "outputs": [],
   "source": [
    "ensembles_test = pd.DataFrame()"
   ]
  },
  {
   "cell_type": "code",
   "execution_count": 657,
   "metadata": {},
   "outputs": [],
   "source": [
    "ensembles_test['tree_clf3'] = pd.DataFrame(tree_clf3.predict_proba(X_test))[1]\n",
    "ensembles_test['rf_clf3'] = pd.DataFrame(rf_clf3.predict_proba(X_test))[1]\n",
    "ensembles_test['combined'] = lr_clf.predict(ensembles_test[['tree_clf3', 'rf_clf3']])\n",
    "ensembles_test = pd.concat([ensembles_test, pd.DataFrame(y_test).reset_index(drop=True)], axis=1)\n",
    "ensembles_test.rename({0: 'ind'}, axis=1, inplace=True)"
   ]
  },
  {
   "cell_type": "code",
   "execution_count": 658,
   "metadata": {},
   "outputs": [
    {
     "data": {
      "text/html": [
       "<div>\n",
       "<style scoped>\n",
       "    .dataframe tbody tr th:only-of-type {\n",
       "        vertical-align: middle;\n",
       "    }\n",
       "\n",
       "    .dataframe tbody tr th {\n",
       "        vertical-align: top;\n",
       "    }\n",
       "\n",
       "    .dataframe thead th {\n",
       "        text-align: right;\n",
       "    }\n",
       "</style>\n",
       "<table border=\"1\" class=\"dataframe\">\n",
       "  <thead>\n",
       "    <tr style=\"text-align: right;\">\n",
       "      <th>combined</th>\n",
       "      <th>0</th>\n",
       "      <th>1</th>\n",
       "    </tr>\n",
       "    <tr>\n",
       "      <th>ind</th>\n",
       "      <th></th>\n",
       "      <th></th>\n",
       "    </tr>\n",
       "  </thead>\n",
       "  <tbody>\n",
       "    <tr>\n",
       "      <th>0</th>\n",
       "      <td>262</td>\n",
       "      <td>43</td>\n",
       "    </tr>\n",
       "    <tr>\n",
       "      <th>1</th>\n",
       "      <td>48</td>\n",
       "      <td>15</td>\n",
       "    </tr>\n",
       "  </tbody>\n",
       "</table>\n",
       "</div>"
      ],
      "text/plain": [
       "combined    0   1\n",
       "ind              \n",
       "0         262  43\n",
       "1          48  15"
      ]
     },
     "execution_count": 658,
     "metadata": {},
     "output_type": "execute_result"
    }
   ],
   "source": [
    "pd.crosstab(ensembles_test['ind'], ensembles_test['combined'])"
   ]
  },
  {
   "cell_type": "code",
   "execution_count": 659,
   "metadata": {},
   "outputs": [
    {
     "name": "stdout",
     "output_type": "stream",
     "text": [
      "accuracy_score  0.7527173913043478\n",
      "              precision    recall  f1-score   support\n",
      "\n",
      "           0       0.85      0.86      0.85       305\n",
      "           1       0.26      0.24      0.25        63\n",
      "\n",
      "    accuracy                           0.75       368\n",
      "   macro avg       0.55      0.55      0.55       368\n",
      "weighted avg       0.74      0.75      0.75       368\n",
      "\n"
     ]
    }
   ],
   "source": [
    "print(\"accuracy_score \",accuracy_score(ensembles_test['ind'], ensembles_test['combined']))\n",
    "print(classification_report(ensembles_test['ind'], ensembles_test['combined']))"
   ]
  },
  {
   "cell_type": "markdown",
   "metadata": {},
   "source": [
    "Unique classifier"
   ]
  },
  {
   "cell_type": "code",
   "execution_count": 519,
   "metadata": {},
   "outputs": [],
   "source": [
    "from sklearn.ensemble import RandomForestClassifier, BaggingClassifier, AdaBoostClassifier"
   ]
  },
  {
   "cell_type": "code",
   "execution_count": 520,
   "metadata": {},
   "outputs": [
    {
     "data": {
      "text/plain": [
       "No     84.0\n",
       "Yes    16.0\n",
       "Name: Attrition, dtype: float64"
      ]
     },
     "execution_count": 520,
     "metadata": {},
     "output_type": "execute_result"
    }
   ],
   "source": [
    "imbalancedf"
   ]
  },
  {
   "cell_type": "code",
   "execution_count": 521,
   "metadata": {},
   "outputs": [
    {
     "data": {
      "text/plain": [
       "{0: 84.0, 1: 16.0}"
      ]
     },
     "execution_count": 521,
     "metadata": {},
     "output_type": "execute_result"
    }
   ],
   "source": [
    "weigth = {0:imbalancedf[0], 1:imbalancedf[1]}\n",
    "weigth"
   ]
  },
  {
   "cell_type": "code",
   "execution_count": 522,
   "metadata": {},
   "outputs": [
    {
     "data": {
      "text/plain": [
       "0    0.842105\n",
       "1    0.157895\n",
       "dtype: float64"
      ]
     },
     "execution_count": 522,
     "metadata": {},
     "output_type": "execute_result"
    }
   ],
   "source": [
    "pd.Series(list(y_train.ravel())).value_counts() / pd.Series(list(y_train.ravel())).count()"
   ]
  },
  {
   "cell_type": "code",
   "execution_count": 523,
   "metadata": {},
   "outputs": [],
   "source": [
    "rf_clf4 = RandomForestClassifier(class_weight=weigth)\n",
    "ada4 = AdaBoostClassifier(\n",
    "    base_estimator=rf_clf4, \n",
    "    n_estimators=1000, \n",
    "    learning_rate=0.5, random_state=42)"
   ]
  },
  {
   "cell_type": "code",
   "execution_count": 524,
   "metadata": {},
   "outputs": [
    {
     "data": {
      "text/plain": [
       "AdaBoostClassifier(base_estimator=RandomForestClassifier(class_weight={0: 84.0,\n",
       "                                                                       1: 16.0}),\n",
       "                   learning_rate=0.5, n_estimators=1000, random_state=42)"
      ]
     },
     "execution_count": 524,
     "metadata": {},
     "output_type": "execute_result"
    }
   ],
   "source": [
    "ada4.fit(X_train, y_train.ravel())"
   ]
  },
  {
   "cell_type": "code",
   "execution_count": 525,
   "metadata": {},
   "outputs": [
    {
     "name": "stdout",
     "output_type": "stream",
     "text": [
      "***************************** Training ****************************************************\n",
      "Accuracy:\t\t 1.0\n",
      "Classification Report:\n",
      "               precision    recall  f1-score   support\n",
      "\n",
      "           0       1.00      1.00      1.00       928\n",
      "           1       1.00      1.00      1.00       174\n",
      "\n",
      "    accuracy                           1.00      1102\n",
      "   macro avg       1.00      1.00      1.00      1102\n",
      "weighted avg       1.00      1.00      1.00      1102\n",
      "\n",
      "Confusion Matrix:\n",
      " [[928   0]\n",
      " [  0 174]]\n",
      "******Cross Validation Number: 2\n",
      "Avg accuracy: 0.8557168784029039\n",
      "Accuracy standard dev: 0.002722323049001829\n",
      "***************************** Testing ****************************************************\n",
      "Accuracy:\t\t 0.8614130434782609\n",
      "Classification Report:\n",
      "               precision    recall  f1-score   support\n",
      "\n",
      "           0       0.86      0.99      0.92       305\n",
      "           1       0.88      0.22      0.35        63\n",
      "\n",
      "    accuracy                           0.86       368\n",
      "   macro avg       0.87      0.61      0.64       368\n",
      "weighted avg       0.86      0.86      0.83       368\n",
      "\n",
      "Confusion Matrix:\n",
      " [[303   2]\n",
      " [ 49  14]]\n"
     ]
    }
   ],
   "source": [
    "scores(ada4, X_train, y_train, X_test, y_test, train=True)\n",
    "scores(ada4, X_train, y_train, X_test, y_test, train=False)"
   ]
  },
  {
   "cell_type": "code",
   "execution_count": 526,
   "metadata": {},
   "outputs": [],
   "source": [
    "bag_clf4 = BaggingClassifier(\n",
    "            base_estimator=ada4,\n",
    "            n_estimators=50,\n",
    "            max_samples=1,\n",
    "            max_features=1,\n",
    "            bootstrap=True,\n",
    "            bootstrap_features=False,\n",
    "            n_jobs=-1,\n",
    "            random_state=42)"
   ]
  },
  {
   "cell_type": "code",
   "execution_count": 527,
   "metadata": {},
   "outputs": [
    {
     "data": {
      "text/plain": [
       "BaggingClassifier(base_estimator=AdaBoostClassifier(base_estimator=RandomForestClassifier(class_weight={0: 84.0,\n",
       "                                                                                                        1: 16.0}),\n",
       "                                                    learning_rate=0.5,\n",
       "                                                    n_estimators=1000,\n",
       "                                                    random_state=42),\n",
       "                  max_features=1, max_samples=1, n_estimators=50, n_jobs=-1,\n",
       "                  random_state=42)"
      ]
     },
     "execution_count": 527,
     "metadata": {},
     "output_type": "execute_result"
    }
   ],
   "source": [
    "bag_clf4.fit(X_train, y_train.ravel())"
   ]
  },
  {
   "cell_type": "code",
   "execution_count": 528,
   "metadata": {},
   "outputs": [],
   "source": [
    "scores(bag_clf4, X_train, y_train, X_test, y_test, train=True)\n",
    "scores(bag_clf4, X_train, y_train, X_test, y_test, train=False)"
   ]
  },
  {
   "cell_type": "code",
   "execution_count": 529,
   "metadata": {},
   "outputs": [],
   "source": [
    "# pip install deap update_checker tqdm stopit xgboost\n",
    "# pip install dask[delayed] dask[dataframe] dask-ml fsspec>=0.3.3 distributed>=2.10.0\n",
    "# pip install scikit-mdr skrebate"
   ]
  },
  {
   "cell_type": "markdown",
   "metadata": {},
   "source": [
    "## TPOTClassifier"
   ]
  },
  {
   "cell_type": "code",
   "execution_count": 595,
   "metadata": {},
   "outputs": [],
   "source": [
    "from tpot import TPOTClassifier"
   ]
  },
  {
   "cell_type": "code",
   "execution_count": 596,
   "metadata": {},
   "outputs": [
    {
     "name": "stdout",
     "output_type": "stream",
     "text": [
      "\n",
      "Generation 1 - Current best internal CV score: 0.8693447993447994\n",
      "\n",
      "Generation 2 - Current best internal CV score: 0.872964782964783\n",
      "\n",
      "Generation 3 - Current best internal CV score: 0.881122031122031\n",
      "\n",
      "Generation 4 - Current best internal CV score: 0.882940212940213\n",
      "\n",
      "Generation 5 - Current best internal CV score: 0.882940212940213\n",
      "\n",
      "Generation 6 - Current best internal CV score: 0.882940212940213\n",
      "\n",
      "Generation 7 - Current best internal CV score: 0.8838493038493038\n",
      "\n",
      "Generation 8 - Current best internal CV score: 0.8847665847665848\n",
      "\n",
      "Generation 9 - Current best internal CV score: 0.8893038493038492\n",
      "\n",
      "Generation 10 - Current best internal CV score: 0.8893038493038492\n",
      "\n",
      "Generation 11 - Current best internal CV score: 0.8893038493038492\n",
      "\n",
      "Generation 12 - Current best internal CV score: 0.8893038493038492\n",
      "\n",
      "Generation 13 - Current best internal CV score: 0.8902047502047502\n",
      "\n",
      "Generation 14 - Current best internal CV score: 0.8902047502047502\n",
      "\n",
      "Generation 15 - Current best internal CV score: 0.8902047502047502\n",
      "\n",
      "Generation 16 - Current best internal CV score: 0.8902047502047502\n",
      "\n",
      "Generation 17 - Current best internal CV score: 0.8911056511056511\n",
      "\n",
      "\n",
      "TPOT closed during evaluation in one generation.\n",
      "WARNING: TPOT may not provide a good pipeline if TPOT is stopped/interrupted in a early generation.\n",
      "\n",
      "\n",
      "TPOT closed prematurely. Will use the current best pipeline.\n",
      "\n",
      "Best pipeline: XGBClassifier(BernoulliNB(input_matrix, alpha=0.1, fit_prior=True), learning_rate=0.1, max_depth=5, min_child_weight=10, n_estimators=100, n_jobs=1, subsample=0.7000000000000001, verbosity=0)\n"
     ]
    },
    {
     "data": {
      "text/plain": [
       "TPOTClassifier(cv=10, generations=50, population_size=20, random_state=42,\n",
       "               verbosity=2)"
      ]
     },
     "execution_count": 596,
     "metadata": {},
     "output_type": "execute_result"
    }
   ],
   "source": [
    "pipeline_optimizer = TPOTClassifier()\n",
    "pipeline_optimizer = TPOTClassifier(generations=50, population_size=20, cv=10,\n",
    "                                    random_state=42, verbosity=2)\n",
    "pipeline_optimizer.fit(X_train, y_train.ravel())"
   ]
  },
  {
   "cell_type": "code",
   "execution_count": 532,
   "metadata": {},
   "outputs": [],
   "source": [
    "# pipeline_optimizer.export('tpot_exported_pipeline.py')"
   ]
  },
  {
   "cell_type": "markdown",
   "metadata": {},
   "source": [
    "# Own version"
   ]
  },
  {
   "cell_type": "code",
   "execution_count": 582,
   "metadata": {},
   "outputs": [],
   "source": [
    "from sklearn.neighbors import KNeighborsClassifier\n",
    "from sklearn.naive_bayes import GaussianNB\n",
    "from sklearn.svm import SVC"
   ]
  },
  {
   "cell_type": "code",
   "execution_count": null,
   "metadata": {},
   "outputs": [],
   "source": [
    "n_estimator = 100, oob_score = TRUE, n_jobs = -1,random_state =50, max_features = \"auto\", min_samples_leaf = 50"
   ]
  },
  {
   "cell_type": "code",
   "execution_count": 648,
   "metadata": {},
   "outputs": [],
   "source": [
    "#log_reg_params = [{\"C\":0.01}, {\"C\":0.1}, {\"C\":1}, {\"C\":10}, {\"max_iter\": 10000}]\n",
    "dec_tree_params = [{\"criterion\": \"gini\"}, {\"criterion\": \"entropy\"}]\n",
    "rand_for_params = [{\"criterion\": \"gini\"}, {\"criterion\": \"entropy\"}, {\"min_samples_leaf\": 50}]  \n",
    "kneighbors_params = [{\"n_neighbors\":3}, {\"n_neighbors\":5}]\n",
    "naive_bayes_params = [{}]\n",
    "svc_params = [{\"C\":0.01}, {\"C\":0.1}, {\"C\":1}, {\"C\":10}]\n",
    "ada_params = [{}]\n",
    "bag_params = [{}]\n",
    "gra_params = [{}]"
   ]
  },
  {
   "cell_type": "code",
   "execution_count": 649,
   "metadata": {},
   "outputs": [],
   "source": [
    "modelclasses = [\n",
    "    # [\"log regression\", LogisticRegression, log_reg_params],\n",
    "    [\"decision tree\", DecisionTreeClassifier, dec_tree_params],\n",
    "    [\"random forest\", RandomForestClassifier, rand_for_params],\n",
    "    [\"k neighbors\", KNeighborsClassifier, kneighbors_params],\n",
    "    [\"naive bayes\", GaussianNB, naive_bayes_params],\n",
    "    [\"support vector machines\", SVC, svc_params],\n",
    "    ['ada boost classifier', AdaBoostClassifier, ada_params],\n",
    "    ['bagging classifier', BaggingClassifier, bag_params],\n",
    "    ['gradient classifier', GradientBoostingClassifier, gra_params],\n",
    "]"
   ]
  },
  {
   "cell_type": "code",
   "execution_count": 650,
   "metadata": {},
   "outputs": [],
   "source": [
    "def insights(X_train, y_train, X_test, y_test):\n",
    "    insights = []\n",
    "    for modelname, Model, params_list in modelclasses:\n",
    "        for params in params_list:\n",
    "            model = Model(**params)\n",
    "            model.fit(X_train, y_train.ravel())\n",
    "            score = model.score(X_test, y_test.ravel())\n",
    "            insights.append((modelname, model, params, score))\n",
    "\n",
    "    return insights\n",
    "\n",
    "results = insights(X_train, y_train, X_test, y_test)"
   ]
  },
  {
   "cell_type": "code",
   "execution_count": 651,
   "metadata": {},
   "outputs": [],
   "source": [
    "df_res = pd.DataFrame(results,\n",
    "                  columns = ['Model' , 'X', 'Criterion', 'Result' ])\n",
    "\n",
    "df_res.drop('X', inplace=True, axis=1)"
   ]
  },
  {
   "cell_type": "code",
   "execution_count": 652,
   "metadata": {},
   "outputs": [
    {
     "data": {
      "text/html": [
       "<div>\n",
       "<style scoped>\n",
       "    .dataframe tbody tr th:only-of-type {\n",
       "        vertical-align: middle;\n",
       "    }\n",
       "\n",
       "    .dataframe tbody tr th {\n",
       "        vertical-align: top;\n",
       "    }\n",
       "\n",
       "    .dataframe thead th {\n",
       "        text-align: right;\n",
       "    }\n",
       "</style>\n",
       "<table border=\"1\" class=\"dataframe\">\n",
       "  <thead>\n",
       "    <tr style=\"text-align: right;\">\n",
       "      <th></th>\n",
       "      <th>Model</th>\n",
       "      <th>Criterion</th>\n",
       "      <th>Result</th>\n",
       "    </tr>\n",
       "  </thead>\n",
       "  <tbody>\n",
       "    <tr>\n",
       "      <th>0</th>\n",
       "      <td>decision tree</td>\n",
       "      <td>{'criterion': 'gini'}</td>\n",
       "      <td>0.739130</td>\n",
       "    </tr>\n",
       "    <tr>\n",
       "      <th>1</th>\n",
       "      <td>decision tree</td>\n",
       "      <td>{'criterion': 'entropy'}</td>\n",
       "      <td>0.788043</td>\n",
       "    </tr>\n",
       "    <tr>\n",
       "      <th>2</th>\n",
       "      <td>random forest</td>\n",
       "      <td>{'criterion': 'gini'}</td>\n",
       "      <td>0.853261</td>\n",
       "    </tr>\n",
       "    <tr>\n",
       "      <th>3</th>\n",
       "      <td>random forest</td>\n",
       "      <td>{'criterion': 'entropy'}</td>\n",
       "      <td>0.850543</td>\n",
       "    </tr>\n",
       "    <tr>\n",
       "      <th>4</th>\n",
       "      <td>random forest</td>\n",
       "      <td>{'min_samples_leaf': 50}</td>\n",
       "      <td>0.828804</td>\n",
       "    </tr>\n",
       "    <tr>\n",
       "      <th>5</th>\n",
       "      <td>k neighbors</td>\n",
       "      <td>{'n_neighbors': 3}</td>\n",
       "      <td>0.798913</td>\n",
       "    </tr>\n",
       "    <tr>\n",
       "      <th>6</th>\n",
       "      <td>k neighbors</td>\n",
       "      <td>{'n_neighbors': 5}</td>\n",
       "      <td>0.801630</td>\n",
       "    </tr>\n",
       "    <tr>\n",
       "      <th>7</th>\n",
       "      <td>naive bayes</td>\n",
       "      <td>{}</td>\n",
       "      <td>0.763587</td>\n",
       "    </tr>\n",
       "    <tr>\n",
       "      <th>8</th>\n",
       "      <td>support vector machines</td>\n",
       "      <td>{'C': 0.01}</td>\n",
       "      <td>0.828804</td>\n",
       "    </tr>\n",
       "    <tr>\n",
       "      <th>9</th>\n",
       "      <td>support vector machines</td>\n",
       "      <td>{'C': 0.1}</td>\n",
       "      <td>0.828804</td>\n",
       "    </tr>\n",
       "    <tr>\n",
       "      <th>10</th>\n",
       "      <td>support vector machines</td>\n",
       "      <td>{'C': 1}</td>\n",
       "      <td>0.828804</td>\n",
       "    </tr>\n",
       "    <tr>\n",
       "      <th>11</th>\n",
       "      <td>support vector machines</td>\n",
       "      <td>{'C': 10}</td>\n",
       "      <td>0.828804</td>\n",
       "    </tr>\n",
       "    <tr>\n",
       "      <th>12</th>\n",
       "      <td>ada boost classifier</td>\n",
       "      <td>{}</td>\n",
       "      <td>0.875000</td>\n",
       "    </tr>\n",
       "    <tr>\n",
       "      <th>13</th>\n",
       "      <td>bagging classifier</td>\n",
       "      <td>{}</td>\n",
       "      <td>0.836957</td>\n",
       "    </tr>\n",
       "    <tr>\n",
       "      <th>14</th>\n",
       "      <td>gradient classifier</td>\n",
       "      <td>{}</td>\n",
       "      <td>0.864130</td>\n",
       "    </tr>\n",
       "  </tbody>\n",
       "</table>\n",
       "</div>"
      ],
      "text/plain": [
       "                      Model                 Criterion    Result\n",
       "0             decision tree     {'criterion': 'gini'}  0.739130\n",
       "1             decision tree  {'criterion': 'entropy'}  0.788043\n",
       "2             random forest     {'criterion': 'gini'}  0.853261\n",
       "3             random forest  {'criterion': 'entropy'}  0.850543\n",
       "4             random forest  {'min_samples_leaf': 50}  0.828804\n",
       "5               k neighbors        {'n_neighbors': 3}  0.798913\n",
       "6               k neighbors        {'n_neighbors': 5}  0.801630\n",
       "7               naive bayes                        {}  0.763587\n",
       "8   support vector machines               {'C': 0.01}  0.828804\n",
       "9   support vector machines                {'C': 0.1}  0.828804\n",
       "10  support vector machines                  {'C': 1}  0.828804\n",
       "11  support vector machines                 {'C': 10}  0.828804\n",
       "12     ada boost classifier                        {}  0.875000\n",
       "13       bagging classifier                        {}  0.836957\n",
       "14      gradient classifier                        {}  0.864130"
      ]
     },
     "execution_count": 652,
     "metadata": {},
     "output_type": "execute_result"
    }
   ],
   "source": [
    "df_res"
   ]
  },
  {
   "cell_type": "code",
   "execution_count": 563,
   "metadata": {},
   "outputs": [],
   "source": [
    "from sklearn.model_selection import GridSearchCV"
   ]
  },
  {
   "cell_type": "code",
   "execution_count": 564,
   "metadata": {},
   "outputs": [],
   "source": [
    "rfc=RandomForestClassifier(random_state=42)"
   ]
  },
  {
   "cell_type": "code",
   "execution_count": 565,
   "metadata": {},
   "outputs": [],
   "source": [
    "param_grid = {\n",
    "    'n_estimators': [200, 500],\n",
    "    'max_features': ['auto', 'sqrt', 'log2'],\n",
    "    'max_depth': [4, 5, 6, 7, 8],\n",
    "    'criterion': ['gini', 'entropy']\n",
    "}"
   ]
  },
  {
   "cell_type": "code",
   "execution_count": 567,
   "metadata": {},
   "outputs": [
    {
     "data": {
      "text/plain": [
       "GridSearchCV(cv=5, estimator=RandomForestClassifier(random_state=42),\n",
       "             param_grid={'criterion': ['gini', 'entropy'],\n",
       "                         'max_depth': [4, 5, 6, 7, 8],\n",
       "                         'max_features': ['auto', 'sqrt', 'log2'],\n",
       "                         'n_estimators': [200, 500]})"
      ]
     },
     "execution_count": 567,
     "metadata": {},
     "output_type": "execute_result"
    }
   ],
   "source": [
    "CV_rfc = GridSearchCV(estimator=rfc, param_grid=param_grid, cv= 5)\n",
    "CV_rfc.fit(X_train, y_train.ravel())"
   ]
  },
  {
   "cell_type": "code",
   "execution_count": 568,
   "metadata": {},
   "outputs": [
    {
     "data": {
      "text/plain": [
       "RandomForestClassifier(max_depth=8, n_estimators=200, random_state=42)"
      ]
     },
     "execution_count": 568,
     "metadata": {},
     "output_type": "execute_result"
    }
   ],
   "source": [
    "CV_rfc.best_estimator_"
   ]
  },
  {
   "cell_type": "code",
   "execution_count": 570,
   "metadata": {},
   "outputs": [
    {
     "data": {
      "text/plain": [
       "0.858440970793912"
      ]
     },
     "execution_count": 570,
     "metadata": {},
     "output_type": "execute_result"
    }
   ],
   "source": [
    "CV_rfc.best_score_"
   ]
  },
  {
   "cell_type": "markdown",
   "metadata": {},
   "source": [
    "## Treat imbalance dataset"
   ]
  },
  {
   "cell_type": "code",
   "execution_count": 536,
   "metadata": {},
   "outputs": [],
   "source": [
    "from imblearn.over_sampling import SMOTE"
   ]
  },
  {
   "cell_type": "code",
   "execution_count": 537,
   "metadata": {},
   "outputs": [],
   "source": [
    "# Separate input features and target\n",
    "X_ = df.drop('Attrition',axis=1)\n",
    "y_ = df.Attrition\n",
    "\n",
    "X_train_, X_test_, y_train_, y_test_ = train_test_split(X_, y_, test_size=0.25, random_state=27)"
   ]
  },
  {
   "cell_type": "code",
   "execution_count": 538,
   "metadata": {},
   "outputs": [],
   "source": [
    "# setting up testing and training sets\n",
    "sm = SMOTE(random_state=42)\n",
    "X_train_, y_train_ = sm.fit_resample(X_train, y_train)"
   ]
  },
  {
   "cell_type": "code",
   "execution_count": 539,
   "metadata": {},
   "outputs": [
    {
     "data": {
      "text/plain": [
       "((1856, 50), (1856,))"
      ]
     },
     "execution_count": 539,
     "metadata": {},
     "output_type": "execute_result"
    }
   ],
   "source": [
    "X_train_.shape, y_train_.shape"
   ]
  },
  {
   "cell_type": "code",
   "execution_count": 540,
   "metadata": {},
   "outputs": [
    {
     "data": {
      "text/plain": [
       "RandomForestClassifier()"
      ]
     },
     "execution_count": 540,
     "metadata": {},
     "output_type": "execute_result"
    }
   ],
   "source": [
    "from sklearn.ensemble import RandomForestClassifier\n",
    "rf_clf5 = RandomForestClassifier()\n",
    "rf_clf5.fit(X_train_, y_train_.ravel())"
   ]
  },
  {
   "cell_type": "code",
   "execution_count": 541,
   "metadata": {},
   "outputs": [
    {
     "name": "stdout",
     "output_type": "stream",
     "text": [
      "***************************** Training ****************************************************\n",
      "Accuracy:\t\t 1.0\n",
      "Classification Report:\n",
      "               precision    recall  f1-score   support\n",
      "\n",
      "           0       1.00      1.00      1.00       928\n",
      "           1       1.00      1.00      1.00       174\n",
      "\n",
      "    accuracy                           1.00      1102\n",
      "   macro avg       1.00      1.00      1.00      1102\n",
      "weighted avg       1.00      1.00      1.00      1102\n",
      "\n",
      "Confusion Matrix:\n",
      " [[928   0]\n",
      " [  0 174]]\n",
      "******Cross Validation Number: 2\n",
      "Avg accuracy: 0.8575317604355717\n",
      "Accuracy standard dev: 0.006352087114337546\n",
      "***************************** Testing ****************************************************\n",
      "Accuracy:\t\t 0.8586956521739131\n",
      "Classification Report:\n",
      "               precision    recall  f1-score   support\n",
      "\n",
      "           0       0.86      0.98      0.92       305\n",
      "           1       0.76      0.25      0.38        63\n",
      "\n",
      "    accuracy                           0.86       368\n",
      "   macro avg       0.81      0.62      0.65       368\n",
      "weighted avg       0.85      0.86      0.83       368\n",
      "\n",
      "Confusion Matrix:\n",
      " [[300   5]\n",
      " [ 47  16]]\n"
     ]
    }
   ],
   "source": [
    "scores(rf_clf5, X_train, y_train, X_test, y_test, train=True)\n",
    "scores(rf_clf5, X_train, y_train, X_test, y_test, train=False)"
   ]
  },
  {
   "cell_type": "code",
   "execution_count": 542,
   "metadata": {},
   "outputs": [],
   "source": [
    "import numpy as np\n",
    "import pandas as pd\n",
    "from sklearn.linear_model import SGDClassifier\n",
    "from sklearn.model_selection import train_test_split\n",
    "from sklearn.pipeline import make_pipeline, make_union\n",
    "from sklearn.svm import LinearSVC\n",
    "from tpot.builtins import StackingEstimator, ZeroCount\n",
    "from tpot.export_utils import set_param_recursive"
   ]
  },
  {
   "cell_type": "code",
   "execution_count": 543,
   "metadata": {},
   "outputs": [],
   "source": [
    "exported_pipeline = make_pipeline(\n",
    "    ZeroCount(),\n",
    "    StackingEstimator(estimator=SGDClassifier(\n",
    "                                                alpha=0.01, \n",
    "                                                eta0=0.1, \n",
    "                                                fit_intercept=True, \n",
    "                                                l1_ratio=0.0, \n",
    "                                                learning_rate=\"invscaling\", \n",
    "                                                loss=\"squared_hinge\", \n",
    "                                                penalty=\"elasticnet\", \n",
    "                                                power_t=0.5)),\n",
    "    LinearSVC(C=10.0, dual=False, loss=\"squared_hinge\", penalty=\"l2\", tol=1e-05)\n",
    ")\n",
    "# Fix random state for all the steps in exported pipeline\n",
    "set_param_recursive(exported_pipeline.steps, 'random_state', 42)"
   ]
  },
  {
   "cell_type": "code",
   "execution_count": 544,
   "metadata": {},
   "outputs": [
    {
     "data": {
      "text/plain": [
       "Pipeline(steps=[('zerocount', ZeroCount()),\n",
       "                ('stackingestimator',\n",
       "                 StackingEstimator(estimator=SGDClassifier(alpha=0.01, eta0=0.1,\n",
       "                                                           l1_ratio=0.0,\n",
       "                                                           learning_rate='invscaling',\n",
       "                                                           loss='squared_hinge',\n",
       "                                                           penalty='elasticnet',\n",
       "                                                           random_state=42))),\n",
       "                ('linearsvc',\n",
       "                 LinearSVC(C=10.0, dual=False, random_state=42, tol=1e-05))])"
      ]
     },
     "execution_count": 544,
     "metadata": {},
     "output_type": "execute_result"
    }
   ],
   "source": [
    "exported_pipeline.fit(X_train, y_train.ravel())"
   ]
  },
  {
   "cell_type": "code",
   "execution_count": null,
   "metadata": {},
   "outputs": [],
   "source": [
    "# scores(rf_clf3, X_train, y_train, X_test, y_test, train=True)\n",
    "# scores(rf_clf3, X_train, y_train, X_test, y_test, train=False)"
   ]
  },
  {
   "cell_type": "code",
   "execution_count": null,
   "metadata": {},
   "outputs": [],
   "source": []
  },
  {
   "cell_type": "code",
   "execution_count": 545,
   "metadata": {},
   "outputs": [],
   "source": [
    "results = exported_pipeline.predict(X_test)"
   ]
  },
  {
   "cell_type": "code",
   "execution_count": 546,
   "metadata": {},
   "outputs": [],
   "source": [
    "# from tpot import TPOTClassifier\n",
    "# from sklearn.datasets import load_digits\n",
    "# from sklearn.model_selection import train_test_split\n",
    "# from sklearn.metrics import make_scorer"
   ]
  },
  {
   "cell_type": "code",
   "execution_count": 547,
   "metadata": {},
   "outputs": [],
   "source": [
    "# def my_custom_accuracy(y_true, y_pred):\n",
    "#     return float(sum(y_pred == y_true)) / len(y_true)\n",
    "\n",
    "# # Make a custom a scorer from the custom metric function\n",
    "# # Note: greater_is_better=False in make_scorer below would mean that the scoring function should be minimized.\n",
    "# my_custom_scorer = make_scorer(my_custom_accuracy, greater_is_better=True)\n",
    "\n",
    "# tpot = TPOTClassifier(generations=5, population_size=20, verbosity=2,\n",
    "#                       scoring=my_custom_scorer)\n",
    "# tpot.fit(X_train, y_train.ravel())\n",
    "# print(tpot.score(X_test, y_test.ravel()))"
   ]
  },
  {
   "cell_type": "code",
   "execution_count": 597,
   "metadata": {},
   "outputs": [],
   "source": [
    "import numpy as np\n",
    "import pandas as pd\n",
    "from sklearn.ensemble import GradientBoostingClassifier\n",
    "from sklearn.model_selection import train_test_split\n",
    "from sklearn.naive_bayes import GaussianNB\n",
    "from sklearn.pipeline import make_pipeline, make_union\n",
    "from sklearn.preprocessing import MinMaxScaler\n",
    "from sklearn.svm import LinearSVC\n",
    "from sklearn.tree import DecisionTreeClassifier\n",
    "from tpot.builtins import StackingEstimator\n",
    "from tpot.export_utils import set_param_recursive"
   ]
  },
  {
   "cell_type": "code",
   "execution_count": 599,
   "metadata": {},
   "outputs": [
    {
     "name": "stderr",
     "output_type": "stream",
     "text": [
      "C:\\Users\\50687\\anaconda3\\lib\\site-packages\\sklearn\\base.py:445: UserWarning:\n",
      "\n",
      "X does not have valid feature names, but DecisionTreeClassifier was fitted with feature names\n",
      "\n",
      "C:\\Users\\50687\\anaconda3\\lib\\site-packages\\sklearn\\base.py:445: UserWarning:\n",
      "\n",
      "X does not have valid feature names, but DecisionTreeClassifier was fitted with feature names\n",
      "\n",
      "C:\\Users\\50687\\anaconda3\\lib\\site-packages\\sklearn\\svm\\_base.py:1206: ConvergenceWarning:\n",
      "\n",
      "Liblinear failed to converge, increase the number of iterations.\n",
      "\n",
      "C:\\Users\\50687\\anaconda3\\lib\\site-packages\\sklearn\\base.py:445: UserWarning:\n",
      "\n",
      "X does not have valid feature names, but DecisionTreeClassifier was fitted with feature names\n",
      "\n",
      "C:\\Users\\50687\\anaconda3\\lib\\site-packages\\sklearn\\base.py:445: UserWarning:\n",
      "\n",
      "X does not have valid feature names, but DecisionTreeClassifier was fitted with feature names\n",
      "\n"
     ]
    }
   ],
   "source": [
    "# Average CV score on the training set was: 0.8920311220311221\n",
    "exported_pipeline = make_pipeline(\n",
    "    StackingEstimator(estimator=DecisionTreeClassifier(criterion=\"gini\", max_depth=1, min_samples_leaf=6, min_samples_split=4)),\n",
    "    StackingEstimator(estimator=GaussianNB()),\n",
    "    MinMaxScaler(),\n",
    "    StackingEstimator(estimator=LinearSVC(C=5.0, dual=True, loss=\"hinge\", penalty=\"l2\", tol=0.001)),\n",
    "    GradientBoostingClassifier(learning_rate=0.1, max_depth=1, max_features=0.45, min_samples_leaf=1, min_samples_split=16, n_estimators=100, subsample=0.6500000000000001)\n",
    ")\n",
    "# Fix random state for all the steps in exported pipeline\n",
    "set_param_recursive(exported_pipeline.steps, 'random_state', 42)\n",
    "\n",
    "exported_pipeline.fit(X_train, y_train.ravel())\n",
    "results = exported_pipeline.predict(X_test)"
   ]
  }
 ],
 "metadata": {
  "kernelspec": {
   "display_name": "Python 3",
   "language": "python",
   "name": "python3"
  },
  "language_info": {
   "codemirror_mode": {
    "name": "ipython",
    "version": 3
   },
   "file_extension": ".py",
   "mimetype": "text/x-python",
   "name": "python",
   "nbconvert_exporter": "python",
   "pygments_lexer": "ipython3",
   "version": "3.8.5"
  }
 },
 "nbformat": 4,
 "nbformat_minor": 2
}
